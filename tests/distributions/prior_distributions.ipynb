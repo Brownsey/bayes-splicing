{
 "cells": [
  {
   "cell_type": "code",
   "execution_count": 90,
   "id": "2bcb0321-89f0-4a9d-a47b-9b4f761f94f1",
   "metadata": {},
   "outputs": [],
   "source": [
    "import numpy as np\n",
    "import numba as nb\n",
    "import math as ma\n",
    "import scipy.stats as st\n",
    "import seaborn as sns\n",
    "import matplotlib.pyplot as plt\n",
    "import pandas as pd"
   ]
  },
  {
   "cell_type": "markdown",
   "id": "04e11e9d-05d0-460f-99ca-f86fa64f3305",
   "metadata": {},
   "source": [
    "# Definition of prior distributions and independent priors"
   ]
  },
  {
   "cell_type": "code",
   "execution_count": 105,
   "id": "69f0d7b2-91dd-4443-ac58-47dd7fe99859",
   "metadata": {},
   "outputs": [],
   "source": [
    "class prior_model:\n",
    "    def __init__(self, name, parm_name, a , b):\n",
    "        self.name = name\n",
    "        self.parm_name = parm_name\n",
    "        self.a = a\n",
    "        self.b = b\n",
    "    \n",
    "    def set_logp(self):\n",
    "        a, b = self.a, self.b\n",
    "        if self.name == \"gamma\":\n",
    "            def logp(x):\n",
    "                if x > 0:\n",
    "                    return(( a - 1) * np.log(x) - b * x + a * np.log(b) - np.log(ma.gamma(a)))\n",
    "                else:\n",
    "                    return(-np.inf)\n",
    "        elif self.name == \"beta\":\n",
    "            def logp(x):\n",
    "                if x>0:\n",
    "                    return((a - 1)*np.log(x) + (b - 1)*np.log(1 - x) -  np.log(ma.gamma(a)) - np.log(ma.gamma(b)) + np.log(ma.gamma(a + b)))\n",
    "                else:\n",
    "                    return(-np.inf)\n",
    "        elif self.name == \"uniform\":\n",
    "            def logp(x):\n",
    "                if x > a and x < b:\n",
    "                    return(-np.log(b-a))\n",
    "                else:\n",
    "                    return(-np.inf)\n",
    "        elif self.name == \"normal\":\n",
    "            def logp(x):\n",
    "                return(- np.log(2 * ma.pi) / 2 - (x-a)**2 / 2 / b**2 )\n",
    "        self.logp = nb.jit(nopython = True)(logp)\n",
    "    \n",
    "    def sample(self, n):\n",
    "        if self.name == \"gamma\":\n",
    "            return(np.random.gamma(self.a, 1 / self.b, size = n))\n",
    "        elif self.name == \"beta\":\n",
    "            return(np.random.beta(self.a, self.b, size = n))\n",
    "        elif self.name == \"uniform\":\n",
    "            return(np.random.uniform(low = self.a, high = self.b, size = n))\n",
    "        elif self.name == \"normal\":\n",
    "            return(np.random.normal(self.a, self.b, size = n))\n",
    "\n",
    "    "
   ]
  },
  {
   "cell_type": "markdown",
   "id": "8ce43170-d518-4652-b794-0ec6d2708c6c",
   "metadata": {},
   "source": [
    "## Check of the log likelihood function "
   ]
  },
  {
   "cell_type": "code",
   "execution_count": 183,
   "id": "3216fda8-f3a6-4b3a-989c-fbd46a898c62",
   "metadata": {},
   "outputs": [
    {
     "name": "stdout",
     "output_type": "stream",
     "text": [
      "2.220446049250313e-16\n",
      "1.6653345369377348e-16\n",
      "0.0\n",
      "0.0\n"
     ]
    }
   ],
   "source": [
    "λ1_prior, p_prior, γ_prior, μ_prior = prior_model(\"gamma\", \"λ1\", 0.1, 0.1), prior_model(\"beta\", \"p\", 0.5, 0.5) , prior_model(\"uniform\", \"γ\", 0, 2), prior_model(\"normal\", \"μ\", 0, 1) \n",
    "λ1_prior.set_logp(), p_prior.set_logp(), γ_prior.set_logp(), μ_prior.set_logp()\n",
    "x = 0.1\n",
    "print(λ1_prior.logp(0.1) - np.log(st.gamma.pdf(0.1 * λ1_prior.b, λ1_prior.a)*λ1_prior.b))\n",
    "print(p_prior.logp(x) - np.log(st.beta.pdf(x, p_prior.a, p_prior.b)))\n",
    "print(γ_prior.logp(x) - np.log(st.uniform.pdf(x) / (γ_prior.b - γ_prior.a)))\n",
    "print(μ_prior.logp(x) - np.log(st.norm.pdf( (x - μ_prior.a ))  / μ_prior.b  ))"
   ]
  },
  {
   "cell_type": "markdown",
   "id": "3c4825ba-5b73-4934-8658-824be41465cf",
   "metadata": {},
   "source": [
    "## Check of the sampling function"
   ]
  },
  {
   "cell_type": "code",
   "execution_count": 184,
   "id": "ad74042b-139c-4ab0-ad73-69f65849bf73",
   "metadata": {},
   "outputs": [
    {
     "data": {
      "image/png": "[encoded data removed]",
      "text/plain": [
       "<Figure size 720x252 with 4 Axes>"
      ]
     },
     "metadata": {
      "needs_background": "light"
     },
     "output_type": "display_data"
    }
   ],
   "source": [
    "n, d = 1000, 4\n",
    "λ1_sample, p_sample, γ_sample, μ_sample = λ1_prior.sample(n), p_prior.sample(n), γ_prior.sample(n), μ_prior.sample(n)\n",
    "samples = [λ1_sample, p_sample, γ_sample, μ_sample ]\n",
    "fig, axs = plt.subplots(1, d, figsize=(10, 3.5))\n",
    "x_labs = [λ1_prior.name, p_prior.name, γ_prior.name, μ_prior.name]\n",
    "for k in range(d):\n",
    "    axs[k].hist(samples[k],bins=20)\n",
    "    axs[k].set_xlabel(x_labs[k])\n",
    "sns.despine()\n",
    "fig.tight_layout()"
   ]
  },
  {
   "cell_type": "code",
   "execution_count": 149,
   "id": "d206fecf-32e1-4363-8e41-2d213237a1d4",
   "metadata": {},
   "outputs": [],
   "source": [
    "class independent_priors:\n",
    "    def __init__(self, priors):\n",
    "        self.priors = priors\n",
    "        self.parm_names = [prior.parm_name for prior in priors]\n",
    "        self.d = len(priors)\n",
    "    \n",
    "    def sample(self,n):\n",
    "        particle_cloud = pd.DataFrame(\n",
    "            np.array([prior.sample(n) for prior in self.priors]).T)\n",
    "        particle_cloud.columns = self.parm_names\n",
    "        return(particle_cloud)\n",
    "    \n",
    "    def set_logp(self):\n",
    "        [prior.set_logp() for prior in self.priors]\n",
    "        def logp(parms):\n",
    "            d = len(parms)\n",
    "            return(np.sum([self.priors[k].logp(parms[k]) for k in range(d)]))\n",
    "        self.logp = logp"
   ]
  },
  {
   "cell_type": "code",
   "execution_count": 146,
   "id": "49f9b8df-f8fc-43b1-ae21-a7bde1d65117",
   "metadata": {},
   "outputs": [
    {
     "data": {
      "text/plain": [
       "array([-4.85354544,  3.7259834 , -3.4390096 ,  0.94467033,  4.80831993,\n",
       "       -0.26984526, -3.94311431,  1.20798716, 21.47513131, 11.78252556])"
      ]
     },
     "execution_count": 146,
     "metadata": {},
     "output_type": "execute_result"
    }
   ],
   "source": [
    "prior_dist = independent_priors([λ1_prior, p_prior, γ_prior, μ_prior])\n",
    "prior_dist.set_logp()\n",
    "particle_cloud = prior_dist.sample(10)\n",
    "np.array([prior_dist.logp(particle) for particle in particle_cloud.values])\n",
    "    "
   ]
  },
  {
   "cell_type": "code",
   "execution_count": 156,
   "id": "26fb5f81-9b19-4524-8dd8-6230b1bc5633",
   "metadata": {},
   "outputs": [],
   "source": [
    "def logp_gamma_beta_prior(a, b):\n",
    "    def logp_prior(parms):\n",
    "        gammas, beta, a_gammas, a_beta, b_gammas, b_beta = parms[:len(parms)-1], parms[-1], a[:len(parms)-1], a[-1], b[:len(parms)-1], b[-1]\n",
    "        if np.all(parms)>0 and beta < 1:\n",
    "            l_gamma =  np.sum((a_gammas - 1) * np.log(gammas)) - np.sum(gammas * b_gammas) + np.sum(a_gammas * np.log(b_gammas)) - np.sum(np.log(np.array([ma.gamma( a_scalar ) for a_scalar in a_gammas])))\n",
    "            l_beta = (a_beta - 1)*np.log(beta) + (b_beta - 1)*np.log(1 - beta) -  np.log(ma.gamma(a_beta)) - np.log(ma.gamma(b_beta)) + np.log(ma.gamma(a_beta + b_beta))\n",
    "\n",
    "            return(l_gamma + l_beta)\n",
    "        else:\n",
    "            return(-np.inf)\n",
    "    return nb.jit(nopython=True)(logp_prior)"
   ]
  },
  {
   "cell_type": "code",
   "execution_count": 177,
   "id": "5b13efd0-12fc-49c9-85c4-3070fdf0c6ea",
   "metadata": {},
   "outputs": [
    {
     "name": "stdout",
     "output_type": "stream",
     "text": [
      "             λ1            λ2             γ         p\n",
      "0  1.328366e-03  6.211661e-03  1.329314e-05  0.678007\n",
      "1  3.364872e-02  4.254594e-04  4.981219e-06  0.492331\n",
      "2  1.216055e-01  5.940712e+00  9.414056e-01  0.261861\n",
      "3  6.724061e-03  5.433501e+00  2.886426e+00  0.413092\n",
      "4  1.611339e-01  1.284240e-06  4.824091e-07  0.884067\n",
      "5  4.493754e-05  4.100576e-13  2.762029e-02  0.535482\n",
      "6  3.462108e-01  1.159455e-04  1.748957e-05  0.492377\n",
      "7  4.606624e-04  4.393322e-09  2.275094e-04  0.361433\n",
      "8  1.458756e-02  2.213882e-01  3.636467e+01  0.500162\n",
      "9  2.796868e-14  1.808160e-21  4.010450e-14  0.478792\n"
     ]
    }
   ],
   "source": [
    "λ1_prior, λ2_prior, γ_prior, p_prior = prior_model(\"gamma\", \"λ1\", 0.1, 0.1), prior_model(\"gamma\", \"λ2\", 0.1, 0.1), prior_model(\"gamma\", \"γ\", 0.1, 0.1), prior_model(\"beta\", \"p\", 2, 2)\n",
    "prior_dist = independent_priors([λ1_prior, λ2_prior, γ_prior, p_prior])\n",
    "particle_cloud = prior_dist.sample(10)\n",
    "prior_dist.set_logp()\n",
    "print(particle_cloud)\n",
    "a, b = np.append(0.1*np.ones(prior_dist.d-1), 2), np.append(0.1*np.ones(prior_dist.d-1), 2.0)\n",
    "log_prob_prior = logp_gamma_beta_prior(a, b) "
   ]
  },
  {
   "cell_type": "code",
   "execution_count": 178,
   "id": "548c58c8-6b37-4656-a658-e6f582ba49ef",
   "metadata": {},
   "outputs": [
    {
     "data": {
      "text/plain": [
       "array([ 0.00000000e+00,  0.00000000e+00,  0.00000000e+00, -8.88178420e-16,\n",
       "        0.00000000e+00,  1.06581410e-14,  0.00000000e+00,  0.00000000e+00,\n",
       "       -3.55271368e-15,  0.00000000e+00])"
      ]
     },
     "execution_count": 178,
     "metadata": {},
     "output_type": "execute_result"
    }
   ],
   "source": [
    "np.array([log_prob_prior(particle) for particle in particle_cloud.values]) - np.array([prior_dist.logp(particle) for particle in particle_cloud.values])"
   ]
  },
  {
   "cell_type": "code",
   "execution_count": 179,
   "id": "ddfd2d4f-58ee-4f9d-976a-57e4ca6e7f93",
   "metadata": {},
   "outputs": [
    {
     "name": "stdout",
     "output_type": "stream",
     "text": [
      "Wall time: 0 ns\n",
      "Wall time: 0 ns\n"
     ]
    },
    {
     "data": {
      "text/plain": [
       "array([13.46032365, 13.98046976, -7.65411843, -5.8822772 , 18.99056631,\n",
       "       30.85846512, 11.89098792, 24.65947959, -8.77586984, 91.79001189])"
      ]
     },
     "execution_count": 179,
     "metadata": {},
     "output_type": "execute_result"
    }
   ],
   "source": [
    "%time np.array([log_prob_prior(particle) for particle in particle_cloud.values])\n",
    "%time np.array([prior_dist.logp(particle) for particle in particle_cloud.values])"
   ]
  }
 ],
 "metadata": {
  "kernelspec": {
   "display_name": "Python 3 (ipykernel)",
   "language": "python",
   "name": "python3"
  },
  "language_info": {
   "codemirror_mode": {
    "name": "ipython",
    "version": 3
   },
   "file_extension": ".py",
   "mimetype": "text/x-python",
   "name": "python",
   "nbconvert_exporter": "python",
   "pygments_lexer": "ipython3",
   "version": "3.9.7"
  }
 },
 "nbformat": 4,
 "nbformat_minor": 5
}
