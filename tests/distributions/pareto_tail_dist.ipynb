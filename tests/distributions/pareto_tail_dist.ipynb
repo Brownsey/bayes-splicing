{
 "cells": [
  {
   "cell_type": "code",
   "execution_count": 1,
   "id": "55777452-ea16-42c8-a58c-d1b2ef16128a",
   "metadata": {},
   "outputs": [],
   "source": [
    "import scipy.special as sp\n",
    "import math as ma\n",
    "import numpy as np\n",
    "import scipy.stats as st\n",
    "import numba as nb\n",
    "import seaborn as sns\n",
    "import matplotlib.pyplot as plt\n",
    "import pandas as pd\n",
    "from scipy.optimize import minimize\n",
    "import bayessplicedmodels as bsm\n",
    "from joblib import Parallel, delayed"
   ]
  },
  {
   "cell_type": "markdown",
   "id": "35b50bc7-7de2-4427-b09d-79a0852822fb",
   "metadata": {},
   "source": [
    "# Pareto tail distribution\n",
    "\n",
    "$X\\sim\\text{Pareto}(\\alpha, \\gamma)$ with pdf\n",
    "\n",
    "$$\n",
    "f(x) = \\frac{\\alpha \\gamma^\\alpha}{x^{\\alpha+1}}\n",
    "$$"
   ]
  },
  {
   "cell_type": "code",
   "execution_count": 2,
   "id": "ec07157a-7bf5-4109-a740-2028573750f3",
   "metadata": {},
   "outputs": [],
   "source": [
    "class loss_model:\n",
    "    def __init__(self,name, parm_names):\n",
    "        self.name = name\n",
    "        self.parm_names = parm_names\n",
    "        self.d= len(parm_names)\n",
    "    \n",
    "    def set_logps(self):\n",
    "        if self.name == \"Pareto-Tail\":\n",
    "            def logp_body(X, parms,  γ):\n",
    "                return(-np.inf)\n",
    "            \n",
    "            def logp_tail(X, parms,  γ):\n",
    "                α = parms[0]\n",
    "                if α > 0:\n",
    "                    \n",
    "                    return(len(X)*( np.log(α) + α * np.log(γ)) - (α + 1) * np.sum(np.log(X)) )\n",
    "                else:\n",
    "                    return(-np.inf)\n",
    "            \n",
    "            self.logp_body = nb.jit(nopython = True)(logp_body)\n",
    "            self.logp_tail = nb.jit(nopython = True)(logp_tail)\n",
    "    \n",
    "    def set_logds(self):\n",
    "        if self.name == \"Pareto-Tail\":\n",
    "            \n",
    "            def logd_body(x, parms,  γ):\n",
    "                return(None)\n",
    "            \n",
    "            def logd_tail(x, parms,  γ):\n",
    "                α = parms[:,0]\n",
    "                res = np.zeros(len(α))\n",
    "                s = np.logical_and(α > 0, x > γ)\n",
    "                res[np.where(s)] = np.log(α[s]) + α[s] * np.log(γ[s]) - (α[s] + 1) * np.log(x)\n",
    "                res[np.where(np.invert(s))] = -np.inf\n",
    "                return(res)\n",
    "            \n",
    "            self.logd_body = logd_body\n",
    "            self.logd_tail = logd_tail\n",
    "    \n",
    "    def set_cdf(self):\n",
    "        if self.name == \"Pareto-Tail\":\n",
    "            def cdf(parms, γ, x):\n",
    "                α = parms[0]\n",
    "                return(1 - (γ / x)**α)\n",
    "        self.cdf = nb.jit(nopython = True)(cdf)\n",
    "    \n",
    "    def set_pdf(self):\n",
    "        if self.name == \"Pareto-Tail\":\n",
    "            def pdf(parms, γ,  x):\n",
    "                α = parms[0]\n",
    "                return(α * γ**α / x**(α + 1))\n",
    "        self.pdf = nb.jit(nopython = True)(pdf)\n",
    "                \n",
    "        \n",
    "    def set_ppf(self):\n",
    "        if self.name == \"Pareto-Tail\":\n",
    "            def ppf(parms, γ, y):\n",
    "                α = parms[0]\n",
    "                return( γ * (1-y)**(-1 / α))\n",
    "        self.ppf = ppf"
   ]
  },
  {
   "cell_type": "code",
   "execution_count": 3,
   "id": "127a81e3-9d33-47dd-9e4d-97d83577ac06",
   "metadata": {},
   "outputs": [
    {
     "name": "stdout",
     "output_type": "stream",
     "text": [
      "Pareto-Tail ['α'] 1\n"
     ]
    },
    {
     "data": {
      "text/plain": [
       "(array([0.]), array([0.]), array([0.]))"
      ]
     },
     "execution_count": 3,
     "metadata": {},
     "output_type": "execute_result"
    }
   ],
   "source": [
    "par_tail_dist = loss_model(\"Pareto-Tail\", [\"α\"])\n",
    "print(par_tail_dist.name, par_tail_dist.parm_names, par_tail_dist.d)\n",
    "parms = np.array([2])\n",
    "α = parms\n",
    "x, y = 2, 0.5\n",
    "γ = 1.5\n",
    "par_tail_dist.set_cdf(), par_tail_dist.set_pdf(), par_tail_dist.set_ppf()\n",
    "par_tail_dist.cdf(parms, γ, γ) - st.pareto(α).cdf(γ / γ), par_tail_dist.ppf(parms, γ, y)-  st.pareto(α).ppf(y) * γ, par_tail_dist.pdf(parms, γ, γ)-  st.pareto(α).pdf(γ / γ) / γ \n"
   ]
  },
  {
   "cell_type": "code",
   "execution_count": 4,
   "id": "9a8366c4-96b1-4828-92e8-624fbd2b5f75",
   "metadata": {},
   "outputs": [
    {
     "name": "stdout",
     "output_type": "stream",
     "text": [
      "-1.1368683772161603e-13\n"
     ]
    }
   ],
   "source": [
    "X = st.pareto(α).rvs(size = 100) * γ\n",
    "par_tail_dist.set_logps()\n",
    "print(par_tail_dist.logp_tail(X, parms, γ)-  np.sum(np.log(st.pareto(α).pdf(X / γ) / γ)))"
   ]
  },
  {
   "cell_type": "code",
   "execution_count": 5,
   "id": "2a0ef1be-c987-48d0-a7fc-3266995bf332",
   "metadata": {},
   "outputs": [
    {
     "name": "stdout",
     "output_type": "stream",
     "text": [
      "[           nan            nan            nan            nan\n",
      "            nan            nan 0.00000000e+00 6.66133815e-16\n",
      "            nan 0.00000000e+00            nan 7.77156117e-16\n",
      "            nan            nan            nan 2.22044605e-16\n",
      " 0.00000000e+00            nan 4.44089210e-16            nan]\n"
     ]
    },
    {
     "name": "stderr",
     "output_type": "stream",
     "text": [
      "C:\\Users\\pierr\\AppData\\Local\\Temp/ipykernel_6932/1107228768.py:8: RuntimeWarning: divide by zero encountered in log\n",
      "  np.array([np.log(st.pareto(α_vec[i]).pdf(X[0] / γ_vec[i]) / γ_vec[i]) for i in range(len(γ_vec)) ]) )\n",
      "C:\\Users\\pierr\\AppData\\Local\\Temp/ipykernel_6932/1107228768.py:7: RuntimeWarning: invalid value encountered in subtract\n",
      "  print(par_tail_dist.logd_tail(X[0], particle_cloud.values, particle_cloud.values[:,-1]) -\n"
     ]
    }
   ],
   "source": [
    "X = st.lomax(α).rvs(size = 10) * γ\n",
    "α_prior, γ_prior= bsm.prior_model('gamma','α', 1, 1), bsm.prior_model('gamma','γ', 1, 1)\n",
    "prior_gamma_model = bsm.independent_priors([α_prior, γ_prior])\n",
    "particle_cloud = prior_gamma_model.sample(20)\n",
    "par_tail_dist.set_logds()\n",
    "α_vec, γ_vec = particle_cloud.values[:,0], particle_cloud.values[:,1]\n",
    "print(par_tail_dist.logd_tail(X[0], particle_cloud.values, particle_cloud.values[:,-1]) - \n",
    "      np.array([np.log(st.pareto(α_vec[i]).pdf(X[0] / γ_vec[i]) / γ_vec[i]) for i in range(len(γ_vec)) ]) )"
   ]
  },
  {
   "cell_type": "code",
   "execution_count": 6,
   "id": "20e18ac0-9589-49fa-9a6f-3e1b20568432",
   "metadata": {},
   "outputs": [
    {
     "data": {
      "image/png": "[encoded data removed]",
      "text/plain": [
       "<Figure size 432x288 with 1 Axes>"
      ]
     },
     "metadata": {
      "needs_background": "light"
     },
     "output_type": "display_data"
    }
   ],
   "source": [
    "import bayessplicedmodels as bsm\n",
    "parms_true = np.array([3, 2, 1.6, 0.9])\n",
    "f1, f2 =  bsm.loss_model(\"Exp\", [\"λ1\"]), loss_model(\"Pareto-Tail\", [\"α2\"])\n",
    "f = bsm.spliced_loss_model(f1 , f2, \"continuous\") \n",
    "X= f.sample(parms_true, 1000) \n",
    "plt.hist(X,bins=200)\n",
    "sns.despine()"
   ]
  },
  {
   "cell_type": "code",
   "execution_count": 7,
   "id": "47a96696-4470-4381-af60-7fb4d3dd9119",
   "metadata": {},
   "outputs": [],
   "source": [
    "λ1_prior = bsm.prior_model('gamma','λ1', 1, 1)\n",
    "α2_prior = bsm.prior_model('gamma','α2',1, 1)\n",
    "γ_prior, p_prior =  bsm.prior_model('uniform','γ',min(X), max(X)), bsm.prior_model('beta', 'p', 2, 2)\n",
    "prior_spliced_model = bsm.independent_priors([λ1_prior,α2_prior, γ_prior])"
   ]
  },
  {
   "cell_type": "code",
   "execution_count": 8,
   "id": "c06bea3f-dc6a-48e7-b69e-27aa1a1728e0",
   "metadata": {},
   "outputs": [
    {
     "name": "stdout",
     "output_type": "stream",
     "text": [
      "Sample generation 0 from the gamma-gamma-uniform prior distribution\n",
      "Generation: 1 ;temperature: 0.0022821426391601562 ;ESS: 1999 ;steps:3 ;particle moved: 98.925%\n",
      "Generation: 2 ;temperature: 0.013214973377671413 ;ESS: 1999 ;steps:3 ;particle moved: 99.0%\n",
      "Generation: 3 ;temperature: 0.06445932232091842 ;ESS: 1999 ;steps:3 ;particle moved: 99.15%\n",
      "Generation: 4 ;temperature: 0.17256763172335524 ;ESS: 2000 ;steps:3 ;particle moved: 98.85000000000001%\n",
      "Generation: 5 ;temperature: 0.35662648963600746 ;ESS: 2000 ;steps:3 ;particle moved: 98.85000000000001%\n",
      "Generation: 6 ;temperature: 0.758018607657599 ;ESS: 2000 ;steps:3 ;particle moved: 99.375%\n",
      "Generation: 7 ;temperature: 1.0 ;ESS: 3535 ;steps:3 ;particle moved: 99.325%\n",
      "Wall time: 11.5 s\n"
     ]
    }
   ],
   "source": [
    "popSize, ρ, c, n_step_max, err, paralell, n_proc, verbose = 4000, 1/2, 0.99, 25, 1e-6, False, 4, True\n",
    "%time trace, log_marg, DIC, WAIC = bsm.smc_likelihood_annealing(X, f, popSize, prior_spliced_model, ρ, c,n_step_max, err, paralell, 4, verbose)"
   ]
  },
  {
   "cell_type": "code",
   "execution_count": 10,
   "id": "221ff5b0-cc4d-48cd-952a-bd7cc8330fbd",
   "metadata": {},
   "outputs": [
    {
     "data": {
      "image/png": "[encoded data removed]",
      "text/plain": [
       "<Figure size 720x252 with 3 Axes>"
      ]
     },
     "metadata": {
      "needs_background": "light"
     },
     "output_type": "display_data"
    },
    {
     "data": {
      "image/png": "[encoded data removed]",
      "text/plain": [
       "<Figure size 720x252 with 3 Axes>"
      ]
     },
     "metadata": {
      "needs_background": "light"
     },
     "output_type": "display_data"
    },
    {
     "data": {
      "image/png": "[encoded data removed]",
      "text/plain": [
       "<Figure size 180x180 with 1 Axes>"
      ]
     },
     "metadata": {
      "needs_background": "light"
     },
     "output_type": "display_data"
    }
   ],
   "source": [
    "f.set_ppf()\n",
    "bsm.posterior_plots(f, trace)\n",
    "bsm.trace_plots(f, trace)\n",
    "bsm.qq_plot(X, f, trace.mean().values)"
   ]
  },
  {
   "cell_type": "markdown",
   "id": "4a373694-dc79-4c66-9cef-46fe45a7453f",
   "metadata": {},
   "source": [
    "## On the danish fire insurance data"
   ]
  },
  {
   "cell_type": "code",
   "execution_count": 11,
   "id": "4b9b914e-fa40-4e10-9981-b0a7943a1929",
   "metadata": {},
   "outputs": [],
   "source": [
    "# The data\n",
    "danish = pd.read_csv(\"Data/danish.csv\").x\n",
    "X = danish.values\n",
    "# Model for the bulk distribution\n",
    "body_model_names = [\"Exp\", \"Gamma\", \"Weibull\", \"Inverse-Gaussian\", \"Lognormal\", \"Burr\"]\n",
    "body_model_param_names = [['λ1'], [\"r1\", \"m1\"], [\"k1\", \"β1\"], [\"μ1\", \"λ1\"], [\"μ1\", \"σ1\"], [\"α1\", \"β1\", \"σ1\"]]\n",
    "# Prior distributions over the parameters of the bulk distribution\n",
    "body_model_priors= [[bsm.prior_model('gamma',body_model_param_names[0][0], 1, 1)],\n",
    "                [bsm.prior_model('gamma',body_model_param_names[1][0], 1, 1), bsm.prior_model('gamma',body_model_param_names[1][1], 1, 1)], \n",
    "                [bsm.prior_model('gamma',body_model_param_names[2][0], 1, 1), bsm.prior_model('gamma',body_model_param_names[2][1], 1, 1)],\n",
    "                [bsm.prior_model('gamma',body_model_param_names[3][0], 1, 1), bsm.prior_model('gamma',body_model_param_names[3][1], 1, 1)],\n",
    "                [bsm.prior_model('normal',body_model_param_names[4][0], 0, 0.5), bsm.prior_model('gamma',body_model_param_names[4][1], 1, 1)], \n",
    "                    [bsm.prior_model('gamma',body_model_param_names[5][0], 1, 1), bsm.prior_model('gamma',body_model_param_names[5][1], 1, 1), bsm.prior_model('gamma',body_model_param_names[5][2], 1, 1)]\n",
    "]\n",
    "\n",
    "# Model for the tail of the distribution\n",
    "tail_model_names = [\"Pareto-Tail\"]\n",
    "tail_model_param_names = [[\"α2\"]]\n",
    "\n",
    "# Prior distributions over the parameters of the bulk distribution\n",
    "tail_model_priors= [\n",
    "                [bsm.prior_model('gamma',tail_model_param_names[0][0], 1, 1)]]\n",
    "γ_prior, p_prior = bsm.prior_model('uniform', \"γ\", min(X), max(X)), bsm.prior_model('uniform',\"p\", 0, 1)\n",
    "\n",
    "#Splicing model type\n",
    "splicing_types = [\"continuous\"]\n",
    "\n",
    "# Setting the models\n",
    "fs, f_names, prior_spliced_model = [], [], []\n",
    "for i in range(len(body_model_names)):\n",
    "    for j in range(len(tail_model_names)):\n",
    "        for splicing_type in splicing_types:\n",
    "            f1, f2 =  bsm.loss_model(body_model_names[i], body_model_param_names[i]), bsm.loss_model(tail_model_names[j], tail_model_param_names[j])\n",
    "            fs.append(bsm.spliced_loss_model(f1 , f2, splicing_type))\n",
    "            f_names.append(body_model_names[i] +\"-\"+ tail_model_names[j]+\"-\"+splicing_type)\n",
    "            if splicing_type == \"disjoint\": \n",
    "                prior_spliced_model.append(bsm.independent_priors(body_model_priors[i] + tail_model_priors[j] + [γ_prior, p_prior]))\n",
    "            else:\n",
    "                prior_spliced_model.append(bsm.independent_priors(body_model_priors[i] + tail_model_priors[j] + [γ_prior]))   \n",
    "for f in fs:\n",
    "    f.set_ppf()\n",
    "fs_dict = dict(zip(f_names, fs))"
   ]
  },
  {
   "cell_type": "code",
   "execution_count": 12,
   "id": "54a3e3f5-655e-4de0-be32-c8913b5773e9",
   "metadata": {},
   "outputs": [
    {
     "name": "stdout",
     "output_type": "stream",
     "text": [
      "Wall time: 3min 1s\n"
     ]
    }
   ],
   "source": [
    "popSize, ρ, c, n_step_max, err, paralell, n_proc, verbose = 4000, 1/2, 0.99, 25, 1e-6, False, 4, False\n",
    "def fit_spliced_models(i):     \n",
    "        trace, log_marg, DIC, WAIC = bsm.smc_likelihood_annealing(X, fs[i], popSize, prior_spliced_model[i], ρ, c,n_step_max, err, paralell, 4, verbose)\n",
    "        return([trace, log_marg, DIC, WAIC])\n",
    "%time res = Parallel(n_jobs=4)(delayed(fit_spliced_models)(i) for i in range(len(f_names)))"
   ]
  },
  {
   "cell_type": "code",
   "execution_count": 13,
   "id": "39dfcf8f-d279-4bc9-b837-3cd36a8fb944",
   "metadata": {},
   "outputs": [
    {
     "data": {
      "text/html": [
       "<div>\n",
       "<style scoped>\n",
       "    .dataframe tbody tr th:only-of-type {\n",
       "        vertical-align: middle;\n",
       "    }\n",
       "\n",
       "    .dataframe tbody tr th {\n",
       "        vertical-align: top;\n",
       "    }\n",
       "\n",
       "    .dataframe thead th {\n",
       "        text-align: right;\n",
       "    }\n",
       "</style>\n",
       "<table border=\"1\" class=\"dataframe\">\n",
       "  <thead>\n",
       "    <tr style=\"text-align: right;\">\n",
       "      <th></th>\n",
       "      <th>model</th>\n",
       "      <th>d</th>\n",
       "      <th>γ_map</th>\n",
       "      <th>log_marg</th>\n",
       "      <th>DIC</th>\n",
       "      <th>WAIC</th>\n",
       "      <th>posterior_probability</th>\n",
       "      <th>Wass_dist</th>\n",
       "    </tr>\n",
       "  </thead>\n",
       "  <tbody>\n",
       "    <tr>\n",
       "      <th>2</th>\n",
       "      <td>Weibull-Pareto-Tail-continuous</td>\n",
       "      <td>4</td>\n",
       "      <td>0.933271</td>\n",
       "      <td>-3846.941358</td>\n",
       "      <td>7585.819327</td>\n",
       "      <td>7581.469067</td>\n",
       "      <td>9.998551e-01</td>\n",
       "      <td>1170.567874</td>\n",
       "    </tr>\n",
       "    <tr>\n",
       "      <th>3</th>\n",
       "      <td>Inverse-Gaussian-Pareto-Tail-continuous</td>\n",
       "      <td>4</td>\n",
       "      <td>1.069138</td>\n",
       "      <td>-3855.872766</td>\n",
       "      <td>7598.530633</td>\n",
       "      <td>7610.871703</td>\n",
       "      <td>1.321527e-04</td>\n",
       "      <td>651.048074</td>\n",
       "    </tr>\n",
       "    <tr>\n",
       "      <th>5</th>\n",
       "      <td>Burr-Pareto-Tail-continuous</td>\n",
       "      <td>5</td>\n",
       "      <td>3.621792</td>\n",
       "      <td>-3858.208803</td>\n",
       "      <td>7845.759611</td>\n",
       "      <td>7663.395454</td>\n",
       "      <td>1.278050e-05</td>\n",
       "      <td>1356.251613</td>\n",
       "    </tr>\n",
       "    <tr>\n",
       "      <th>1</th>\n",
       "      <td>Gamma-Pareto-Tail-continuous</td>\n",
       "      <td>4</td>\n",
       "      <td>0.956528</td>\n",
       "      <td>-3869.225615</td>\n",
       "      <td>7681.205596</td>\n",
       "      <td>7697.587350</td>\n",
       "      <td>2.098975e-10</td>\n",
       "      <td>1492.591829</td>\n",
       "    </tr>\n",
       "    <tr>\n",
       "      <th>4</th>\n",
       "      <td>Lognormal-Pareto-Tail-continuous</td>\n",
       "      <td>4</td>\n",
       "      <td>0.965962</td>\n",
       "      <td>-3871.042640</td>\n",
       "      <td>7689.245788</td>\n",
       "      <td>7711.315208</td>\n",
       "      <td>3.411014e-11</td>\n",
       "      <td>1411.143732</td>\n",
       "    </tr>\n",
       "    <tr>\n",
       "      <th>0</th>\n",
       "      <td>Exp-Pareto-Tail-continuous</td>\n",
       "      <td>3</td>\n",
       "      <td>1.831670</td>\n",
       "      <td>-4655.381280</td>\n",
       "      <td>9271.107042</td>\n",
       "      <td>9279.389000</td>\n",
       "      <td>0.000000e+00</td>\n",
       "      <td>865.531524</td>\n",
       "    </tr>\n",
       "  </tbody>\n",
       "</table>\n",
       "</div>"
      ],
      "text/plain": [
       "                                     model  d     γ_map     log_marg  \\\n",
       "2           Weibull-Pareto-Tail-continuous  4  0.933271 -3846.941358   \n",
       "3  Inverse-Gaussian-Pareto-Tail-continuous  4  1.069138 -3855.872766   \n",
       "5              Burr-Pareto-Tail-continuous  5  3.621792 -3858.208803   \n",
       "1             Gamma-Pareto-Tail-continuous  4  0.956528 -3869.225615   \n",
       "4         Lognormal-Pareto-Tail-continuous  4  0.965962 -3871.042640   \n",
       "0               Exp-Pareto-Tail-continuous  3  1.831670 -4655.381280   \n",
       "\n",
       "           DIC         WAIC  posterior_probability    Wass_dist  \n",
       "2  7585.819327  7581.469067           9.998551e-01  1170.567874  \n",
       "3  7598.530633  7610.871703           1.321527e-04   651.048074  \n",
       "5  7845.759611  7663.395454           1.278050e-05  1356.251613  \n",
       "1  7681.205596  7697.587350           2.098975e-10  1492.591829  \n",
       "4  7689.245788  7711.315208           3.411014e-11  1411.143732  \n",
       "0  9271.107042  9279.389000           0.000000e+00   865.531524  "
      ]
     },
     "execution_count": 13,
     "metadata": {},
     "output_type": "execute_result"
    }
   ],
   "source": [
    "fit_spliced_models_dic = dict(zip(f_names, res))\n",
    "γ_map = np.array([fit_spliced_models_dic[f_names[k]][0]['γ'].mean() for k in range(len(fit_spliced_models_dic))])\n",
    "spliced_model_df = pd.DataFrame({'model':f_names,\n",
    "                                 \"d\": np.array([f.d for f in fs]),\n",
    "                                 \"γ_map\": np.array([fit_spliced_models_dic[f_names[k]][0]['γ'].mean() for k in range(len(fit_spliced_models_dic))]),\n",
    "                                 'log_marg':  np.array([fit_spliced_models_dic[f_names[k]][1] for k in range(len(fit_spliced_models_dic))]), \n",
    "                                 \"DIC\": np.array([fit_spliced_models_dic[f_names[k]][2] for k in range(len(fit_spliced_models_dic))]), \n",
    "                                 \"WAIC\":np.array([fit_spliced_models_dic[f_names[k]][3] for k in range(len(fit_spliced_models_dic))])})\n",
    "spliced_model_df[\"posterior_probability\"] = np.exp(spliced_model_df[\"log_marg\"] - np.max(spliced_model_df[\"log_marg\"])) / np.sum(np.exp(spliced_model_df[\"log_marg\"] - np.max(spliced_model_df[\"log_marg\"]))) \n",
    "\n",
    "spliced_model_df[\"Wass_dist\"] = np.array([bsm.compute_Wasserstein(X, fs_dict[model_name], fit_spliced_models_dic[model_name][0].mean().values, 1) for model_name in spliced_model_df[\"model\"].values])\n",
    "spliced_model_df.sort_values(by='log_marg', ascending=False)"
   ]
  },
  {
   "cell_type": "code",
   "execution_count": 14,
   "id": "ffdd7ac9-49a3-4aa1-ae24-520107aacf33",
   "metadata": {},
   "outputs": [
    {
     "data": {
      "image/png": "[encoded data removed]",
      "text/plain": [
       "<Figure size 180x180 with 1 Axes>"
      ]
     },
     "metadata": {
      "needs_background": "light"
     },
     "output_type": "display_data"
    },
    {
     "data": {
      "image/png": "[encoded data removed]",
      "text/plain": [
       "<Figure size 180x180 with 1 Axes>"
      ]
     },
     "metadata": {
      "needs_background": "light"
     },
     "output_type": "display_data"
    },
    {
     "data": {
      "image/png": "[encoded data removed]",
      "text/plain": [
       "<Figure size 180x180 with 1 Axes>"
      ]
     },
     "metadata": {
      "needs_background": "light"
     },
     "output_type": "display_data"
    },
    {
     "data": {
      "image/png": "[encoded data removed]",
      "text/plain": [
       "<Figure size 180x180 with 1 Axes>"
      ]
     },
     "metadata": {
      "needs_background": "light"
     },
     "output_type": "display_data"
    },
    {
     "data": {
      "image/png": "[encoded data removed]",
      "text/plain": [
       "<Figure size 180x180 with 1 Axes>"
      ]
     },
     "metadata": {
      "needs_background": "light"
     },
     "output_type": "display_data"
    },
    {
     "data": {
      "image/png": "[encoded data removed]",
      "text/plain": [
       "<Figure size 180x180 with 1 Axes>"
      ]
     },
     "metadata": {
      "needs_background": "light"
     },
     "output_type": "display_data"
    }
   ],
   "source": [
    "model_names = spliced_model_df.sort_values(by='log_marg', ascending=False)[\"model\"]\n",
    "for model_name in model_names:\n",
    "    f, trace = fs_dict[model_name], fit_spliced_models_dic[model_name][0]\n",
    "    # print(trace.mean().values)\n",
    "    # bsm.posterior_plots(f, trace)\n",
    "    # bsm.trace_plots(f, trace)\n",
    "    bsm.qq_plot(X, f, trace.mean().values)"
   ]
  },
  {
   "cell_type": "code",
   "execution_count": null,
   "id": "92a78fee-61c3-4628-bab3-2d4966d91a3a",
   "metadata": {},
   "outputs": [],
   "source": []
  }
 ],
 "metadata": {
  "kernelspec": {
   "display_name": "Python 3 (ipykernel)",
   "language": "python",
   "name": "python3"
  },
  "language_info": {
   "codemirror_mode": {
    "name": "ipython",
    "version": 3
   },
   "file_extension": ".py",
   "mimetype": "text/x-python",
   "name": "python",
   "nbconvert_exporter": "python",
   "pygments_lexer": "ipython3",
   "version": "3.9.7"
  }
 },
 "nbformat": 4,
 "nbformat_minor": 5
}
