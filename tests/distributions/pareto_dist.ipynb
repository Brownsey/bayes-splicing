{
 "cells": [
  {
   "cell_type": "code",
   "execution_count": 1,
   "id": "55777452-ea16-42c8-a58c-d1b2ef16128a",
   "metadata": {},
   "outputs": [],
   "source": [
    "import scipy.special as sp\n",
    "import math as ma\n",
    "import numpy as np\n",
    "import scipy.stats as st\n",
    "import numba as nb\n",
    "import seaborn as sns\n",
    "import matplotlib.pyplot as plt\n",
    "import pandas as pd\n",
    "from scipy.optimize import minimize\n",
    "import bayessplicedmodels as bsm\n",
    "from joblib import Parallel, delayed"
   ]
  },
  {
   "cell_type": "markdown",
   "id": "35b50bc7-7de2-4427-b09d-79a0852822fb",
   "metadata": {},
   "source": [
    "# Pareto distribution\n",
    "\n",
    "$X\\sim\\text{Pareto}(\\alpha, \\gamma)$ with pdf\n",
    "\n",
    "$$\n",
    "f(x) = \\frac{\\gamma^\\alpha}{x^{\\alpha+1}},\\text{ }x>\\gamma\n",
    "$$"
   ]
  },
  {
   "cell_type": "code",
   "execution_count": 20,
   "id": "ec07157a-7bf5-4109-a740-2028573750f3",
   "metadata": {},
   "outputs": [],
   "source": [
    "class loss_model:\n",
    "    def __init__(self,name, parm_names):\n",
    "        self.name = name\n",
    "        self.parm_names = parm_names\n",
    "        self.d= len(parm_names)\n",
    "    \n",
    "    def set_logp(self, X):\n",
    "        if self.name == \"Pareto\":\n",
    "            def logp(parms):\n",
    "                α, γ = parms\n",
    "                if np.all(parms > 0) and np.all(X >= γ) :\n",
    "                    \n",
    "                    return(len(X)*(np.log(α) + α * np.log(γ)) - (α + 1) * np.sum(np.log(X)))\n",
    "                else:\n",
    "                    return(-np.inf)\n",
    "        self.logp = nb.jit(nopython = True)(logp)\n",
    "    \n",
    "    def set_logd(self, parms):\n",
    "        if self.name == \"Pareto\":\n",
    "            def logd(x):\n",
    "                α, γ = parms[:,0], parms[:,1]\n",
    "                res = np.zeros(len(α))\n",
    "                s = np.logical_and(np.logical_and(α > 0, γ > 0), γ <= x)\n",
    "                res[np.where(s)] = np.log(α[s]) + α[s] * np.log(γ[s]) - (α[s] + 1) * np.log(x) \n",
    "                res[np.where(np.invert(s))] = -np.inf\n",
    "                return(res)\n",
    "        self.logd = logd\n",
    "    \n",
    "    def set_cdf(self):\n",
    "        if self.name == \"Pareto\":\n",
    "            def cdf(parms, x):\n",
    "                α, γ = parms\n",
    "                return(1 - (γ / x)**α)\n",
    "        self.cdf = nb.jit(nopython = True)(cdf)\n",
    "    \n",
    "    def set_pdf(self):\n",
    "        if self.name == \"Pareto\":\n",
    "            def pdf(parms, x):\n",
    "                α, γ = parms\n",
    "                return(α * γ**α / x**(α + 1))\n",
    "        self.pdf = nb.jit(nopython = True)(pdf)\n",
    "                \n",
    "        \n",
    "    def set_ppf(self):\n",
    "        if self.name == \"Pareto\":\n",
    "            def ppf(parms, y):\n",
    "                α, γ = parms\n",
    "                return( γ * ((1-y)**(-1 / α)))\n",
    "        self.ppf = ppf\n",
    "    \n",
    "    def sample(self, parms, n):\n",
    "        if self.name == \"Pareto\":\n",
    "            α, γ = parms\n",
    "            return( γ * st.pareto(α).rvs(n))"
   ]
  },
  {
   "cell_type": "code",
   "execution_count": 8,
   "id": "127a81e3-9d33-47dd-9e4d-97d83577ac06",
   "metadata": {},
   "outputs": [
    {
     "name": "stdout",
     "output_type": "stream",
     "text": [
      "Pareto ['α', 'γ'] 2\n"
     ]
    },
    {
     "data": {
      "text/plain": [
       "(0.0,\n",
       " 0.0,\n",
       " 0.0,\n",
       " array([  0.65380282,   0.65185061,   0.65665883,   3.79686809,\n",
       "          1.15687151,   1.32935782,   0.70111838,   0.79630985,\n",
       "          8.65244222, 513.21614953]))"
      ]
     },
     "execution_count": 8,
     "metadata": {},
     "output_type": "execute_result"
    }
   ],
   "source": [
    "pareto_dist = loss_model(\"Pareto\", [\"α\", \"γ\"])\n",
    "print(pareto_dist.name, pareto_dist.parm_names, pareto_dist.d)\n",
    "parms = np.array([1/2, 1/2])\n",
    "α, γ = parms\n",
    "x, y = 2, 0.5\n",
    "pareto_dist.set_cdf(), pareto_dist.set_pdf(), pareto_dist.set_ppf()\n",
    "pareto_dist.cdf(parms, x) - st.pareto(α).cdf(x / γ),\\\n",
    "pareto_dist.ppf(parms, y)-  γ * st.pareto(α).ppf(y),\\\n",
    "pareto_dist.pdf(parms, x)-  st.pareto(α).pdf(x / γ) / γ,\\\n",
    "pareto_dist.sample(parms, 10)"
   ]
  },
  {
   "cell_type": "code",
   "execution_count": 11,
   "id": "9a8366c4-96b1-4828-92e8-624fbd2b5f75",
   "metadata": {},
   "outputs": [
    {
     "name": "stdout",
     "output_type": "stream",
     "text": [
      "0.0\n"
     ]
    }
   ],
   "source": [
    "X = pareto_dist.sample(parms, 10)\n",
    "pareto_dist.set_logp(X)\n",
    "print(pareto_dist.logp(parms) - np.sum(np.log(st.pareto(α).pdf(X / γ) / γ)))"
   ]
  },
  {
   "cell_type": "code",
   "execution_count": 13,
   "id": "2a0ef1be-c987-48d0-a7fc-3266995bf332",
   "metadata": {},
   "outputs": [
    {
     "name": "stdout",
     "output_type": "stream",
     "text": [
      "[            nan             nan  0.00000000e+00             nan\n",
      "             nan             nan -1.66533454e-16             nan\n",
      "             nan             nan             nan             nan\n",
      "             nan -4.44089210e-16  1.94289029e-16  1.66533454e-16\n",
      "             nan             nan             nan  0.00000000e+00]\n"
     ]
    },
    {
     "name": "stderr",
     "output_type": "stream",
     "text": [
      "C:\\Users\\pierr\\AppData\\Local\\Temp/ipykernel_10676/3021872368.py:6: RuntimeWarning: divide by zero encountered in log\n",
      "  print(np.array([np.log(st.pareto(α_vec[i]).pdf(X[0] / γ_vec[i]) / γ_vec[i]) for i in range(len(γ_vec))] -\n",
      "C:\\Users\\pierr\\AppData\\Local\\Temp/ipykernel_10676/3021872368.py:6: RuntimeWarning: invalid value encountered in subtract\n",
      "  print(np.array([np.log(st.pareto(α_vec[i]).pdf(X[0] / γ_vec[i]) / γ_vec[i]) for i in range(len(γ_vec))] -\n"
     ]
    }
   ],
   "source": [
    "α_prior, γ_prior= bsm.prior_model('gamma','α', 1, 1), bsm.prior_model('gamma','σ', 1, 1)\n",
    "prior_gamma_model = bsm.independent_priors([α_prior, γ_prior])\n",
    "particle_cloud = prior_gamma_model.sample(20)\n",
    "pareto_dist.set_logd(particle_cloud.values)\n",
    "α_vec, γ_vec = particle_cloud.values[:,0], particle_cloud.values[:,1]\n",
    "print(np.array([np.log(st.pareto(α_vec[i]).pdf(X[0] / γ_vec[i]) / γ_vec[i]) for i in range(len(γ_vec))] - \n",
    "               pareto_dist.logd(X[0])))"
   ]
  },
  {
   "cell_type": "code",
   "execution_count": 25,
   "id": "20e18ac0-9589-49fa-9a6f-3e1b20568432",
   "metadata": {},
   "outputs": [
    {
     "data": {
      "image/png": "[encoded data removed]",
      "text/plain": [
       "<Figure size 432x288 with 1 Axes>"
      ]
     },
     "metadata": {
      "needs_background": "light"
     },
     "output_type": "display_data"
    }
   ],
   "source": [
    "parms_true = np.array([2, 1])\n",
    "f = loss_model(\"Pareto\", [\"α\", \"γ\"])\n",
    "# X = f.sample(parms_true, 100)\n",
    "danish = pd.read_csv(\"Data/danish.csv\").x\n",
    "X = danish.values\n",
    "plt.hist(X,bins=25)\n",
    "sns.despine()"
   ]
  },
  {
   "cell_type": "code",
   "execution_count": 26,
   "id": "c06bea3f-dc6a-48e7-b69e-27aa1a1728e0",
   "metadata": {},
   "outputs": [
    {
     "name": "stdout",
     "output_type": "stream",
     "text": [
      "Sample generation 0 from the gamma-fixed prior distribution\n",
      "Generation: 1 ;temperature: 0.0015497207641601562 ;ESS: 1000 ;steps:5 ;particle moved: 99.3%\n",
      "Generation: 2 ;temperature: 0.012437007160315261 ;ESS: 999 ;steps:5 ;particle moved: 99.2%\n",
      "Generation: 3 ;temperature: 0.09185320636046929 ;ESS: 999 ;steps:5 ;particle moved: 99.5%\n",
      "Generation: 4 ;temperature: 0.7123890670939562 ;ESS: 999 ;steps:3 ;particle moved: 100.0%\n",
      "Generation: 5 ;temperature: 1.0 ;ESS: 1915 ;steps:3 ;particle moved: 100.0%\n",
      "Wall time: 4.73 s\n"
     ]
    }
   ],
   "source": [
    "α_prior, γ_prior = bsm.prior_model('gamma','α', 1, 1), bsm.prior_model('fixed','γ', min(X), 1)\n",
    "prior_single_model = bsm.independent_priors([α_prior, γ_prior])\n",
    "popSize, ρ, c, n_step_max, err, paralell, n_proc, verbose = 2000, 1/2, 0.99, 25, 1e-6, False, 4, True\n",
    "%time trace, log_marg, DIC, WAIC = bsm.smc_likelihood_annealing(X, f, popSize, prior_single_model, ρ, c,n_step_max, err, paralell, 4, verbose)"
   ]
  },
  {
   "cell_type": "code",
   "execution_count": 27,
   "id": "fc0dcb56-5dd1-47f3-b926-e265d4ceaa6f",
   "metadata": {},
   "outputs": [
    {
     "name": "stdout",
     "output_type": "stream",
     "text": [
      "-5679.288240674828 11348.282949922615 11351.293745253335\n"
     ]
    },
    {
     "data": {
      "image/png": "[encoded data removed]",
      "text/plain": [
       "<Figure size 720x252 with 2 Axes>"
      ]
     },
     "metadata": {
      "needs_background": "light"
     },
     "output_type": "display_data"
    },
    {
     "data": {
      "image/png": "[encoded data removed]",
      "text/plain": [
       "<Figure size 720x252 with 2 Axes>"
      ]
     },
     "metadata": {
      "needs_background": "light"
     },
     "output_type": "display_data"
    },
    {
     "data": {
      "image/png": "[encoded data removed]",
      "text/plain": [
       "<Figure size 180x180 with 1 Axes>"
      ]
     },
     "metadata": {
      "needs_background": "light"
     },
     "output_type": "display_data"
    }
   ],
   "source": [
    "print(log_marg, DIC, WAIC)\n",
    "bsm.posterior_plots(f, trace)\n",
    "bsm.trace_plots(f, trace)\n",
    "f.set_ppf()\n",
    "bsm.qq_plot(X, f, trace.mean().values)"
   ]
  },
  {
   "cell_type": "code",
   "execution_count": null,
   "id": "1610f0c1-4433-48ac-b24c-421cba572645",
   "metadata": {},
   "outputs": [],
   "source": []
  }
 ],
 "metadata": {
  "kernelspec": {
   "display_name": "Python 3 (ipykernel)",
   "language": "python",
   "name": "python3"
  },
  "language_info": {
   "codemirror_mode": {
    "name": "ipython",
    "version": 3
   },
   "file_extension": ".py",
   "mimetype": "text/x-python",
   "name": "python",
   "nbconvert_exporter": "python",
   "pygments_lexer": "ipython3",
   "version": "3.9.7"
  }
 },
 "nbformat": 4,
 "nbformat_minor": 5
}
