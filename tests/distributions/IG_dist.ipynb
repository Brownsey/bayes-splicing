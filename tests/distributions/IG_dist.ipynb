{
 "cells": [
  {
   "cell_type": "code",
   "execution_count": 1,
   "metadata": {},
   "outputs": [],
   "source": [
    "import scipy.special as sp\n",
    "import math as ma\n",
    "import numpy as np \n",
    "import scipy.stats as st\n",
    "import numba as nb\n",
    "import seaborn as sns\n",
    "import matplotlib.pyplot as plt\n",
    "import pandas as pd\n",
    "from scipy.optimize import minimize\n",
    "import scipy as sc\n",
    "import bayes_splicing as bs\n",
    "from joblib import Parallel, delayed"
   ]
  },
  {
   "cell_type": "markdown",
   "metadata": {},
   "source": [
    "# Inverse Gaussian distribution\n",
    "\n",
    "$X\\sim\\text{IG}(\\mu, \\lambda)$ with pdfs\n",
    "\n",
    "$$\n",
    "f(x) = \\sqrt{\\frac{\\lambda}{x^3 2\\pi}}\\exp\\left[- \\lambda \\frac{(x-\\mu)^2}{2x\\mu^2}\\right]\n",
    "$$"
   ]
  },
  {
   "cell_type": "code",
   "execution_count": 28,
   "metadata": {},
   "outputs": [],
   "source": [
    "def phi_vec(z):\n",
    "    \"\"\"\n",
    "    Cdf of unit normal distribution\n",
    "\n",
    "    Parameters\n",
    "    ----------\n",
    "    z : Float\n",
    "\n",
    "    Returns\n",
    "    -------\n",
    "    CDF of unit normal distribution\n",
    "    \"\"\"\n",
    "    return( 1 / 2 * (1 + sp.erf(z /np.sqrt(2))))\n",
    "\n",
    "@nb.jit(nopython=True)\n",
    "def phi_jit(z):\n",
    "    \"\"\"\n",
    "    Cdf of unit normal distribution\n",
    "\n",
    "    Parameters\n",
    "    ----------\n",
    "    z : Float\n",
    "\n",
    "    Returns\n",
    "    -------\n",
    "    CDF of unit normal distribution\n",
    "    \"\"\"\n",
    "    return( 1 / 2 * (1 + ma.erf(z /np.sqrt(2))))\n",
    "\n",
    "class loss_model:\n",
    "    def __init__(self,name, parm_names):\n",
    "        self.name = name\n",
    "        self.parm_names = parm_names\n",
    "        self.d= len(parm_names)\n",
    "    \n",
    "    def set_logp(self, X):\n",
    "        if self.name == \"Inverse-Gaussian\":\n",
    "            def logp(parms):\n",
    "                μ, λ = parms\n",
    "                if np.all(parms) > 0:\n",
    "                    return(len(X) / 2 * (np.log(λ) - np.log(2 * ma.pi) ) - \n",
    "                           3 / 2 * np.sum(np.log(X)) - \n",
    "                           λ / 2 / μ**2 * np.sum((X - μ)**2 / X))\n",
    "                else:\n",
    "                    return(-np.inf)\n",
    "        self.logp = nb.jit(nopython = True)(logp)\n",
    "    \n",
    "    def set_logps(self):\n",
    "        if self.name == \"Inverse-Gaussian\":\n",
    "            def logp_body(X, parms,  γ):\n",
    "                μ, λ = parms\n",
    "                F1 = phi_jit(np.sqrt(λ / γ) * (γ/μ - 1)) + np.exp(2 * λ / μ) * phi_jit(- np.sqrt(λ / γ) * (γ/μ + 1)) \n",
    "                if np.all(parms) > 0 and F1 > 0:\n",
    "                    return(len(X) / 2 * (np.log(λ) - np.log(2 * ma.pi) ) - \n",
    "                           3 / 2 * np.sum(np.log(X)) - \n",
    "                           λ / 2 / μ**2 * np.sum((X - μ)**2 / X) - len(X) * np.log(F1))\n",
    "                else:\n",
    "                    return(-np.inf)\n",
    "            \n",
    "            def logp_tail(X, parms,  γ):\n",
    "                μ, λ = parms\n",
    "                F2 = phi_jit(np.sqrt(λ / γ) * (γ/μ - 1)) + np.exp(2 * λ / μ) * phi_jit(- np.sqrt(λ / γ) * (γ/μ + 1)) \n",
    "                if np.all(parms) > 0 and F2 < 1:\n",
    "                    return(len(X) / 2 * (np.log(λ) - np.log(2 * ma.pi) ) - \n",
    "                           3 / 2 * np.sum(np.log(X)) - \n",
    "                           λ / 2 / μ**2 * np.sum((X - μ)**2 / X) - len(X) * np.log(1 - F2))\n",
    "                else:\n",
    "                    return(-np.inf)\n",
    "            \n",
    "            self.logp_body = nb.jit(nopython = True)(logp_body)\n",
    "            self.logp_tail = nb.jit(nopython = True)(logp_tail)\n",
    "    \n",
    "    def set_logd(self, parms):\n",
    "        if self.name == \"Inverse-Gaussian\":\n",
    "            def logd(x):\n",
    "                μ, λ = parms[:,0], parms[:,1]\n",
    "                res = np.zeros(len(μ))\n",
    "                s = np.logical_and(μ > 0, λ > 0)\n",
    "                res[np.where(s)] =  (np.log(λ[s]) - np.log(2 * ma.pi)) / 2  - 3 / 2 * np.log(x) - λ[s] / 2 / μ[s]**2 * (x - μ[s])**2 / x\n",
    "                res[np.where(np.invert(s))] = -np.inf\n",
    "                return(res)\n",
    "        self.logd = logd\n",
    "    \n",
    "    def set_logds(self):\n",
    "        if self.name == \"Inverse-Gaussian\":\n",
    "            \n",
    "            def logd_body(x, parms,  γ):\n",
    "                μ, λ = parms[:,0], parms[:,1]\n",
    "                F1 = phi_vec(np.sqrt(λ / γ) * (γ/μ - 1)) + np.exp(2 * λ / μ) * phi_vec(- np.sqrt(λ / γ) * (γ/μ + 1)) \n",
    "                res = np.zeros(len(μ))\n",
    "                s = np.logical_and(np.logical_and(np.logical_and(μ > 0, λ > 0) , x < γ), F1 > 0 )\n",
    "                res[np.where(s)] = (np.log(λ[s]) - np.log(2 * ma.pi)) / 2  - 3 / 2 * np.log(x) - λ[s] / 2 / μ[s]**2 * (x - μ[s])**2 / x - np.log(F1[s])\n",
    "                res[np.where(np.invert(s))] = -np.inf\n",
    "                return(res)\n",
    "            \n",
    "            def logd_tail(x, parms,  γ):\n",
    "                μ, λ = parms[:,0], parms[:,1]\n",
    "                F2 = phi_vec(np.sqrt(λ / γ) * (γ/μ - 1)) + np.exp(2 * λ / μ) * phi_vec(- np.sqrt(λ / γ) * (γ/μ + 1)) \n",
    "                res = np.zeros(len(μ))\n",
    "                s = np.logical_and(np.logical_and(np.logical_and(μ > 0, λ > 0) , x > γ), F2 < 1 )\n",
    "                res[np.where(s)] = (np.log(λ[s]) - np.log(2 * ma.pi)) / 2  - 3 / 2 * np.log(x) - λ[s] / 2 / μ[s]**2 * (x - μ[s])**2 / x - np.log(1 - F2[s])\n",
    "                res[np.where(np.invert(s))] = -np.inf\n",
    "                return(res)\n",
    "            \n",
    "            self.logd_body = logd_body\n",
    "            self.logd_tail = logd_tail\n",
    "                \n",
    "    \n",
    "    def set_cdf(self):\n",
    "        if self.name == \"Inverse-Gaussian\":\n",
    "            def cdf(parms, x):\n",
    "                μ, λ = parms\n",
    "                return( phi_jit(np.sqrt(λ / x) * (x / μ - 1)) + \n",
    "                   np.exp(2 * λ / μ) * \n",
    "                   phi_jit(- np.sqrt(λ / x) * (x / μ + 1) ))\n",
    "        self.cdf = nb.jit(nopython = True)(cdf)\n",
    "    \n",
    "    def set_pdf(self):\n",
    "        if self.name == \"Inverse-Gaussian\":\n",
    "            def pdf(parms, x):\n",
    "                μ, λ = parms\n",
    "                return(np.sqrt(λ / 2 / ma.pi / x**3) * np.exp(- λ *(x - μ)**2 /2 / μ**2 / x ))\n",
    "        self.pdf = nb.jit(nopython = True)(pdf)\n",
    "        \n",
    "    # def set_ppf(self):\n",
    "    #     if self.name == \"Inverse-Gaussian\":\n",
    "    #         self.set_cdf()\n",
    "    #         def ppf(parms, y):\n",
    "    #             low, up = 0, 1e8\n",
    "    #             err = 1e-10\n",
    "    #             while up - low > err:\n",
    "    #                 new = (up + low) / 2\n",
    "    #                 val = self.cdf(parms, new)\n",
    "    #                 if val > y:\n",
    "    #                     up = new\n",
    "    #                 else: \n",
    "    #                     low = new\n",
    "    #             return(new)\n",
    "    #     self.ppf = ppf\n",
    "    def set_ppf(self):\n",
    "        if self.name == \"Inverse-Gaussian\":\n",
    "            def ppf(parms, y):\n",
    "                μ,  λ = parms\n",
    "                return(st.invgauss(μ / λ).ppf(y) * λ)\n",
    "        self.ppf = ppf\n",
    "        \n",
    "    def sample(self, parms, n):\n",
    "        if self.name == \"Inverse-Gaussian\":\n",
    "            μ, λ = parms\n",
    "            res = np.zeros(n)\n",
    "            y, u = (np.random.normal(size = n))**2, np.random.uniform(size = n)\n",
    "            x = μ + μ**2 * y / 2 / λ - μ / 2 / λ * np.sqrt(4 * μ * λ * y + μ**2 * y**2)\n",
    "            s = u < μ / (μ + x)\n",
    "            res[s] = x[s]\n",
    "            res[np.invert(s)] = μ**2 / x[np.invert(s)]\n",
    "            return(res)"
   ]
  },
  {
   "cell_type": "markdown",
   "metadata": {},
   "source": [
    "## Basic checks"
   ]
  },
  {
   "cell_type": "code",
   "execution_count": 29,
   "metadata": {},
   "outputs": [
    {
     "name": "stdout",
     "output_type": "stream",
     "text": [
      "Inverse-Gaussian ['μ', 'λ'] 2\n"
     ]
    },
    {
     "data": {
      "text/plain": [
       "(5.551115123125783e-16, 0.0, 0.0)"
      ]
     },
     "execution_count": 29,
     "metadata": {},
     "output_type": "execute_result"
    }
   ],
   "source": [
    "invgauss_dist = loss_model(\"Inverse-Gaussian\", [\"μ\", \"λ\"])\n",
    "print(invgauss_dist.name, invgauss_dist.parm_names, invgauss_dist.d)\n",
    "μ, λ = np.array([1/4, 1/2])\n",
    "parms = np.array([μ, λ])\n",
    "x, y = 2, 0.5\n",
    "invgauss_dist.set_cdf(), invgauss_dist.set_pdf(), invgauss_dist.set_ppf()\n",
    "invgauss_dist.cdf(parms, x) - st.invgauss(μ/λ).cdf(x/λ), invgauss_dist.ppf(parms, y) - st.invgauss(μ / λ).ppf(y) * λ, invgauss_dist.pdf(parms, x) - st.invgauss(μ/λ).pdf(x/λ) / λ"
   ]
  },
  {
   "cell_type": "markdown",
   "metadata": {},
   "source": [
    "## Log likelihood checks\n",
    "### Part 1"
   ]
  },
  {
   "cell_type": "code",
   "execution_count": 30,
   "metadata": {},
   "outputs": [
    {
     "name": "stdout",
     "output_type": "stream",
     "text": [
      "5.684341886080802e-14\n",
      "5.684341886080802e-14\n",
      "-2.1316282072803006e-14\n"
     ]
    }
   ],
   "source": [
    "μ, λ = np.array([2, 1])\n",
    "parms = np.array([μ, λ])\n",
    "X, γ = st.invgauss(μ).rvs(100), 2\n",
    "invgauss_dist.set_logps(), invgauss_dist.set_logp(X)\n",
    "print(invgauss_dist.logp(parms) - np.sum(np.log(st.invgauss(μ).pdf(X))))\n",
    "print(invgauss_dist.logp_body(X, parms, γ)- np.sum(np.log(st.invgauss(μ).pdf(X)/ st.invgauss(μ).cdf(γ))))\n",
    "print(invgauss_dist.logp_tail(X, parms, γ)-  np.sum(np.log(st.invgauss(μ).pdf(X) / (1- st.invgauss(μ).cdf(γ)) )))"
   ]
  },
  {
   "cell_type": "markdown",
   "metadata": {},
   "source": [
    "### Part 2"
   ]
  },
  {
   "cell_type": "code",
   "execution_count": 31,
   "metadata": {},
   "outputs": [
    {
     "name": "stdout",
     "output_type": "stream",
     "text": [
      "[ 4.44089210e-16  0.00000000e+00  0.00000000e+00 -1.11022302e-16\n",
      " -8.88178420e-16  0.00000000e+00  0.00000000e+00 -2.22044605e-16\n",
      " -1.11022302e-16  0.00000000e+00 -3.55271368e-15  0.00000000e+00\n",
      "  0.00000000e+00 -1.11022302e-16  0.00000000e+00  0.00000000e+00\n",
      "  0.00000000e+00 -4.44089210e-16            -inf  0.00000000e+00]\n",
      "[            inf             inf             inf             inf\n",
      "             inf  0.00000000e+00             inf -1.66533454e-16\n",
      "             inf             inf -3.55271368e-15 -2.22044605e-16\n",
      "             inf             inf  1.11022302e-16 -1.11022302e-16\n",
      "  1.11022302e-16             inf             nan             inf]\n",
      "[ 0.00000000e+00  1.11022302e-16 -1.11022302e-16 -1.56125113e-16\n",
      " -8.88178420e-16             inf  1.11022302e-16             inf\n",
      " -5.55111512e-17  1.11022302e-16             inf             inf\n",
      "  5.55111512e-17 -1.17961196e-16             inf             inf\n",
      "             inf -3.33066907e-16             nan  0.00000000e+00]\n"
     ]
    },
    {
     "name": "stderr",
     "output_type": "stream",
     "text": [
      "C:\\Users\\pierr\\AppData\\Local\\Temp/ipykernel_19100/2746805810.py:9: RuntimeWarning: divide by zero encountered in log\n",
      "  print(np.array([np.log(np.sqrt(λ_vec[i] / 2 / ma.pi / X[0]**3) *\n",
      "C:\\Users\\pierr\\AppData\\Local\\Temp/ipykernel_19100/2746805810.py:11: RuntimeWarning: divide by zero encountered in log\n",
      "  print(np.array([np.log(np.sqrt(λ_vec[i] / 2 / ma.pi / X[0]**3) *\n",
      "C:\\Users\\pierr\\AppData\\Local\\Temp/ipykernel_19100/2746805810.py:11: RuntimeWarning: invalid value encountered in subtract\n",
      "  print(np.array([np.log(np.sqrt(λ_vec[i] / 2 / ma.pi / X[0]**3) *\n",
      "C:\\Users\\pierr\\AppData\\Local\\Temp/ipykernel_19100/2746805810.py:15: RuntimeWarning: divide by zero encountered in double_scalars\n",
      "  print(np.array([np.log(np.sqrt(λ_vec[i] / 2 / ma.pi / X[0]**3) *\n",
      "C:\\Users\\pierr\\AppData\\Local\\Temp/ipykernel_19100/2746805810.py:15: RuntimeWarning: invalid value encountered in double_scalars\n",
      "  print(np.array([np.log(np.sqrt(λ_vec[i] / 2 / ma.pi / X[0]**3) *\n"
     ]
    }
   ],
   "source": [
    "X = st.invgauss(μ).rvs(10)\n",
    "\n",
    "μ_prior, λ_prior, γ_prior= bs.prior_model('gamma','μ', 1, 1), bs.prior_model('gamma','σ', 1, 1), bs.prior_model('gamma','γ', 1, 1)\n",
    "prior_single_model = bs.independent_priors([μ_prior, λ_prior, γ_prior])\n",
    "particle_cloud = prior_single_model.sample(20)\n",
    "invgauss_dist.set_logds(), invgauss_dist.set_logd(particle_cloud.values)\n",
    "μ_vec, λ_vec, γ_vec = particle_cloud.values[:,0], particle_cloud.values[:,1], particle_cloud.values[:,2]\n",
    "\n",
    "print(np.array([np.log(np.sqrt(λ_vec[i] / 2 / ma.pi / X[0]**3) * \n",
    "                       np.exp( - λ_vec[i] / 2 / μ_vec[i]**2 / X[0] * (X[0]-μ_vec[i])**2)) for i in range(len(μ_vec))]) - invgauss_dist.logd(X[0]))\n",
    "print(np.array([np.log(np.sqrt(λ_vec[i] / 2 / ma.pi / X[0]**3) * \n",
    "                       np.exp( - λ_vec[i] / 2 / μ_vec[i]**2 / X[0] * (X[0]-μ_vec[i])**2) / (phi_vec(np.sqrt(λ_vec[i] / γ_vec[i]) * (γ_vec[i] / μ_vec[i] - 1)) + \n",
    "                   np.exp(2 * λ_vec[i] / μ_vec[i]) * \n",
    "                   phi_vec(- np.sqrt(λ_vec[i] / γ_vec[i]) * (γ_vec[i] / μ_vec[i] + 1) )) ) for i in range(len(μ_vec))]) - invgauss_dist.logd_body(X[0], particle_cloud.values, particle_cloud.values[:,-1]))\n",
    "print(np.array([np.log(np.sqrt(λ_vec[i] / 2 / ma.pi / X[0]**3) * \n",
    "                       np.exp( - λ_vec[i] / 2 / μ_vec[i]**2 / X[0] * (X[0]-μ_vec[i])**2) / (1-(phi_vec(np.sqrt(λ_vec[i] / γ_vec[i]) * (γ_vec[i] / μ_vec[i] - 1)) + \n",
    "                   np.exp(2 * λ_vec[i] / μ_vec[i]) * \n",
    "                   phi_vec(- np.sqrt(λ_vec[i] / γ_vec[i]) * (γ_vec[i] / μ_vec[i] + 1) ))) ) for i in range(len(μ_vec))]) - invgauss_dist.logd_tail(X[0], particle_cloud.values, particle_cloud.values[:,-1]))\n"
   ]
  },
  {
   "cell_type": "markdown",
   "metadata": {},
   "source": [
    "## As a single model"
   ]
  },
  {
   "cell_type": "code",
   "execution_count": 32,
   "metadata": {},
   "outputs": [
    {
     "data": {
      "image/png": "[encoded data removed]",
      "text/plain": [
       "<Figure size 432x288 with 1 Axes>"
      ]
     },
     "metadata": {
      "needs_background": "light"
     },
     "output_type": "display_data"
    }
   ],
   "source": [
    "parms_true = np.array([2, 4])\n",
    "f = loss_model(\"Inverse-Gaussian\", [\"μ\", \"λ\"])\n",
    "X = f.sample(parms_true, 100)\n",
    "# X = st.invgauss(parms_true[0]).rvs(100)\n",
    "plt.hist(X,bins=10)\n",
    "sns.despine()\n",
    "μ_prior, λ_prior = bs.prior_model('gamma','μ', 1, 1), bs.prior_model('gamma','λ', 1, 1)\n",
    "prior_single_model = bs.independent_priors([μ_prior, λ_prior])"
   ]
  },
  {
   "cell_type": "code",
   "execution_count": 33,
   "metadata": {},
   "outputs": [
    {
     "name": "stdout",
     "output_type": "stream",
     "text": [
      "Sample generation 0 from the gamma-gamma prior distribution\n",
      "Generation: 1 ;temperature: 0.009770393371582031 ;ESS: 999 ;steps:5 ;particle moved: 98.85000000000001%\n",
      "Generation: 2 ;temperature: 0.03860053311336742 ;ESS: 999 ;steps:4 ;particle moved: 98.55000000000001%\n",
      "Generation: 3 ;temperature: 0.10201451934484436 ;ESS: 999 ;steps:4 ;particle moved: 99.25%\n",
      "Generation: 4 ;temperature: 0.24475313631323253 ;ESS: 999 ;steps:4 ;particle moved: 99.5%\n",
      "Generation: 5 ;temperature: 0.6342532718307221 ;ESS: 999 ;steps:4 ;particle moved: 99.4%\n",
      "Generation: 6 ;temperature: 1.0 ;ESS: 1639 ;steps:4 ;particle moved: 99.7%\n",
      "Wall time: 2.74 s\n"
     ]
    }
   ],
   "source": [
    "popSize = 2000\n",
    "%time trace, log_marg, DIC, WAIC = bs.smc(X, f, popSize, prior_single_model)"
   ]
  },
  {
   "cell_type": "code",
   "execution_count": 34,
   "metadata": {},
   "outputs": [
    {
     "name": "stdout",
     "output_type": "stream",
     "text": [
      "-155.63810584306663 292.89648174205746 301.06441307613477\n"
     ]
    },
    {
     "data": {
      "image/png": "[encoded data removed]",
      "text/plain": [
       "<Figure size 720x252 with 2 Axes>"
      ]
     },
     "metadata": {
      "needs_background": "light"
     },
     "output_type": "display_data"
    },
    {
     "data": {
      "image/png": "[encoded data removed]",
      "text/plain": [
       "<Figure size 720x252 with 2 Axes>"
      ]
     },
     "metadata": {
      "needs_background": "light"
     },
     "output_type": "display_data"
    },
    {
     "data": {
      "image/png": "[encoded data removed]",
      "text/plain": [
       "<Figure size 180x180 with 1 Axes>"
      ]
     },
     "metadata": {
      "needs_background": "light"
     },
     "output_type": "display_data"
    }
   ],
   "source": [
    "print(log_marg, DIC, WAIC)\n",
    "f.set_ppf()\n",
    "bs.posterior_plots(f, trace)\n",
    "bs.trace_plots(f, trace)\n",
    "\n",
    "bs.qq_plot(X, f, trace.mean().values)"
   ]
  },
  {
   "cell_type": "markdown",
   "metadata": {},
   "source": [
    "## In the composite model"
   ]
  },
  {
   "cell_type": "code",
   "execution_count": 36,
   "metadata": {},
   "outputs": [
    {
     "data": {
      "image/png": "[encoded data removed]",
      "text/plain": [
       "<Figure size 432x288 with 1 Axes>"
      ]
     },
     "metadata": {
      "needs_background": "light"
     },
     "output_type": "display_data"
    }
   ],
   "source": [
    "parms_true = np.array([3, 1, 2, 5, 2, 0.9])\n",
    "f1, f2 =  loss_model(\"Inverse-Gaussian\", [\"μ1\", \"λ1\"]), loss_model(\"Inverse-Gaussian\", [\"μ2\", \"λ2\"])\n",
    "f = bs.spliced_loss_model(f1 , f2, \"disjoint\") \n",
    "X= f.sample(parms_true, 2000)\n",
    "plt.hist(X,bins=200)\n",
    "sns.despine()\n"
   ]
  },
  {
   "cell_type": "code",
   "execution_count": 39,
   "metadata": {},
   "outputs": [
    {
     "name": "stdout",
     "output_type": "stream",
     "text": [
      "Sample generation 0 from the gamma-gamma-gamma-gamma-uniform-beta prior distribution\n",
      "Generation: 1 ;temperature: 0.00029850006103515625 ;ESS: 999 ;steps:3 ;particle moved: 99.95%\n",
      "Generation: 2 ;temperature: 0.0015810005747880496 ;ESS: 1000 ;steps:3 ;particle moved: 99.95%\n",
      "Generation: 3 ;temperature: 0.005056301407013729 ;ESS: 999 ;steps:3 ;particle moved: 99.9%\n",
      "Generation: 4 ;temperature: 0.013475932733806699 ;ESS: 999 ;steps:3 ;particle moved: 99.9%\n",
      "Generation: 5 ;temperature: 0.02970514112903589 ;ESS: 999 ;steps:3 ;particle moved: 99.8%\n",
      "Generation: 6 ;temperature: 0.06246302937187852 ;ESS: 999 ;steps:3 ;particle moved: 99.45%\n",
      "Generation: 7 ;temperature: 0.11126380314771735 ;ESS: 999 ;steps:3 ;particle moved: 99.7%\n",
      "Generation: 8 ;temperature: 0.17898769526173727 ;ESS: 999 ;steps:3 ;particle moved: 99.4%\n",
      "Generation: 9 ;temperature: 0.2842557648702942 ;ESS: 999 ;steps:3 ;particle moved: 99.6%\n",
      "Generation: 10 ;temperature: 0.46348281843895744 ;ESS: 1000 ;steps:3 ;particle moved: 99.9%\n",
      "Generation: 11 ;temperature: 0.7714504920009233 ;ESS: 999 ;steps:3 ;particle moved: 99.95%\n",
      "Generation: 12 ;temperature: 1.0 ;ESS: 1613 ;steps:3 ;particle moved: 100.0%\n",
      "Wall time: 22 s\n"
     ]
    }
   ],
   "source": [
    "μ1_prior, λ1_prior = bs.prior_model('gamma','μ1', 1, 1), bs.prior_model('gamma','λ1', 1, 1)\n",
    "μ2_prior, λ2_prior = bs.prior_model('gamma','μ2', 1, 1), bs.prior_model('gamma','λ2', 1, 1)\n",
    "γ_prior, p_prior =  bs.prior_model('uniform','γ',min(X),max(X)), bs.prior_model('beta', 'p', 0.5, 0.5)\n",
    "prior_spliced_model = bs.independent_priors([μ1_prior, λ1_prior, μ2_prior, λ2_prior, γ_prior, p_prior])\n",
    "popSize, ρ, c, n_step_max, err, paralell, n_proc, verbose = 2000, 1/2, 0.99, 25, 1e-6, False, 4, True\n",
    "%time trace, log_marg, DIC, WAIC = bs.smc(X, f, popSize, prior_spliced_model, ρ, c,n_step_max, err, paralell, 4, verbose)"
   ]
  },
  {
   "cell_type": "code",
   "execution_count": 42,
   "metadata": {},
   "outputs": [
    {
     "name": "stdout",
     "output_type": "stream",
     "text": [
      "-1906.2945744811616 3767.3039025827534 3782.7314827962623 [3.11059616 1.0938337  1.17951313 1.56627016 2.01466472 0.90033997]\n"
     ]
    },
    {
     "data": {
      "image/png": "[encoded data removed]",
      "text/plain": [
       "<Figure size 720x252 with 6 Axes>"
      ]
     },
     "metadata": {
      "needs_background": "light"
     },
     "output_type": "display_data"
    },
    {
     "data": {
      "image/png": "[encoded data removed]",
      "text/plain": [
       "<Figure size 720x252 with 6 Axes>"
      ]
     },
     "metadata": {
      "needs_background": "light"
     },
     "output_type": "display_data"
    },
    {
     "data": {
      "image/png": "[encoded data removed]",
      "text/plain": [
       "<Figure size 180x180 with 1 Axes>"
      ]
     },
     "metadata": {
      "needs_background": "light"
     },
     "output_type": "display_data"
    }
   ],
   "source": [
    "print(log_marg, DIC, WAIC, trace.mean().values)\n",
    "f.set_ppf()\n",
    "bs.posterior_plots(f, trace)\n",
    "bs.trace_plots(f, trace)\n",
    "bs.qq_plot(X, f, trace.mean().values)"
   ]
  },
  {
   "cell_type": "markdown",
   "metadata": {},
   "source": [
    "# On the danish data set"
   ]
  },
  {
   "cell_type": "code",
   "execution_count": 20,
   "metadata": {},
   "outputs": [],
   "source": [
    "# The data\n",
    "danish = pd.read_csv(\"Data/danish.csv\").x\n",
    "X = danish.values\n",
    "# Model for the bulk distribution\n",
    "body_model_names = [\"Inverse-Gaussian\"]\n",
    "body_model_param_names = [[\"μ1\", \"λ1\"]]\n",
    "# Prior distributions over the parameters of the bulk distribution\n",
    "body_model_priors= [\n",
    "                [ bs.prior_model('gamma',body_model_param_names[0][0], 1, 1), bs.prior_model('gamma',body_model_param_names[0][1], 1, 1)]]\n",
    "\n",
    "# Model for the tail of the distribution\n",
    "tail_model_names = [\"Exp\", \"Gamma\", \"Weibull\", \"Inverse-Gaussian\", \"Lognormal\", \"Log-Logistic\", \"Lomax\", \"Burr\", \"Pareto-Tail\", \"GPD-Tail\", \"Inverse-Gamma\", \"Inverse-Weibull\"]\n",
    "# tail_model_names = [\"Exp\", \"Gamma\", \"Weibull\"]\n",
    "\n",
    "tail_model_param_names = [['λ2'], [\"r2\", \"m2\"], [\"k2\", \"β2\"], [\"μ2\", \"λ2\"], [\"μ2\", \"σ2\"], [\"β2\", \"σ2\"], [\"α2\", \"σ2\"], [\"α2\", \"β2\", \"σ2\"], [\"α2\"], [\"ξ2\",\"σ2\"], [\"r2\", \"m2\"], [\"k2\", \"β2\"]]\n",
    "\n",
    "# Prior distributions over the parameters of the bulk distribution\n",
    "tail_model_priors= [[bs.prior_model('gamma',tail_model_param_names[0][0], 1, 1)],\n",
    "                [bs.prior_model('gamma',tail_model_param_names[1][0], 1, 1), bs.prior_model('gamma',tail_model_param_names[1][1], 1, 1)], \n",
    "                [bs.prior_model('gamma',tail_model_param_names[2][0], 1, 1), bs.prior_model('gamma',tail_model_param_names[2][1], 1, 1)],\n",
    "                [bs.prior_model('gamma',tail_model_param_names[3][0], 1, 1), bs.prior_model('gamma',tail_model_param_names[3][1], 1, 1)],\n",
    "                [bs.prior_model('normal',tail_model_param_names[4][0], 0, 0.5), bs.prior_model('gamma',tail_model_param_names[4][1], 1, 1)],\n",
    "                [bs.prior_model('gamma',tail_model_param_names[5][0], 1, 1), bs.prior_model('gamma',tail_model_param_names[5][1], 1, 1)],\n",
    "                [bs.prior_model('gamma',tail_model_param_names[6][0], 1, 1), bs.prior_model('gamma',tail_model_param_names[6][1], 1, 1)],\n",
    "                [bs.prior_model('gamma',tail_model_param_names[7][0], 1, 1), bs.prior_model('gamma',tail_model_param_names[7][1], 1, 1), bs.prior_model('gamma',tail_model_param_names[7][2], 1, 1)],\n",
    "                [bs.prior_model('gamma',tail_model_param_names[8][0], 1, 1)],\n",
    "                [bs.prior_model('gamma',tail_model_param_names[9][0], 1, 1), bs.prior_model('gamma',tail_model_param_names[9][1], 1, 1)],\n",
    "                [bs.prior_model('gamma',tail_model_param_names[10][0], 1, 1), bs.prior_model('gamma',tail_model_param_names[10][1], 1, 1)],\n",
    "                [bs.prior_model('gamma',tail_model_param_names[11][0], 1, 1), bs.prior_model('gamma',tail_model_param_names[11][1], 1, 1)]\n",
    "]\n",
    "γ_prior, p_prior = bs.prior_model('fixed', \"γ\", 2.46, max(X)), bs.prior_model('uniform',\"p\", 0, 1)\n",
    "\n",
    "#Splicing model type\n",
    "splicing_types = [\"continuous\", \"simple\", \"disjoint\"]\n",
    "\n",
    "# Setting the models\n",
    "fs, f_names, prior_spliced_model = [], [], []\n",
    "for i in range(len(body_model_names)):\n",
    "    for j in range(len(tail_model_names)):\n",
    "        for splicing_type in splicing_types:\n",
    "            f1, f2 =  bs.loss_model(body_model_names[i], body_model_param_names[i]), bs.loss_model(tail_model_names[j], tail_model_param_names[j])\n",
    "            fs.append(bs.spliced_loss_model(f1 , f2, splicing_type))\n",
    "            f_names.append(body_model_names[i] +\"-\"+ tail_model_names[j]+\"-\"+splicing_type)\n",
    "            if splicing_type == \"disjoint\": \n",
    "                prior_spliced_model.append(bs.independent_priors(body_model_priors[i] + tail_model_priors[j] + [γ_prior, p_prior]))\n",
    "            else:\n",
    "                prior_spliced_model.append(bs.independent_priors(body_model_priors[i] + tail_model_priors[j] + [γ_prior]))\n",
    "\n",
    "for f in fs:\n",
    "    f.set_ppf()                \n",
    "fs_dict = dict(zip(f_names, fs))"
   ]
  },
  {
   "cell_type": "code",
   "execution_count": 21,
   "metadata": {},
   "outputs": [
    {
     "name": "stdout",
     "output_type": "stream",
     "text": [
      "Wall time: 3min 37s\n"
     ]
    }
   ],
   "source": [
    "popSize, ρ, c, n_step_max, err, paralell, n_proc, verbose = 1000, 1/2, 0.99, 25, 1e-6, False, 4, False\n",
    "def fit_spliced_models(i):\n",
    "    print(f_names[i])\n",
    "    trace, log_marg, DIC, WAIC = bs.smc_likelihood_annealing(X, fs[i], popSize, prior_spliced_model[i], ρ, c,n_step_max, err, paralell, 4, verbose)\n",
    "    return([trace, log_marg, DIC, WAIC])\n",
    "%time res = Parallel(n_jobs=4)(delayed(fit_spliced_models)(i) for i in range(len(f_names)))"
   ]
  },
  {
   "cell_type": "code",
   "execution_count": 22,
   "metadata": {},
   "outputs": [
    {
     "data": {
      "text/html": [
       "<div>\n",
       "<style scoped>\n",
       "    .dataframe tbody tr th:only-of-type {\n",
       "        vertical-align: middle;\n",
       "    }\n",
       "\n",
       "    .dataframe tbody tr th {\n",
       "        vertical-align: top;\n",
       "    }\n",
       "\n",
       "    .dataframe thead th {\n",
       "        text-align: right;\n",
       "    }\n",
       "</style>\n",
       "<table border=\"1\" class=\"dataframe\">\n",
       "  <thead>\n",
       "    <tr style=\"text-align: right;\">\n",
       "      <th></th>\n",
       "      <th>model</th>\n",
       "      <th>d</th>\n",
       "      <th>γ_map</th>\n",
       "      <th>log_marg</th>\n",
       "      <th>DIC</th>\n",
       "      <th>WAIC</th>\n",
       "      <th>posterior_probability</th>\n",
       "      <th>Wass_dist</th>\n",
       "    </tr>\n",
       "  </thead>\n",
       "  <tbody>\n",
       "    <tr>\n",
       "      <th>32</th>\n",
       "      <td>Inverse-Gaussian-Inverse-Gamma-disjoint</td>\n",
       "      <td>6</td>\n",
       "      <td>2.46</td>\n",
       "      <td>-3932.227155</td>\n",
       "      <td>7804.144683</td>\n",
       "      <td>7824.175644</td>\n",
       "      <td>3.594508e-01</td>\n",
       "      <td>411.968276</td>\n",
       "    </tr>\n",
       "    <tr>\n",
       "      <th>26</th>\n",
       "      <td>Inverse-Gaussian-Pareto-Tail-disjoint</td>\n",
       "      <td>5</td>\n",
       "      <td>2.46</td>\n",
       "      <td>-3932.493170</td>\n",
       "      <td>7806.328453</td>\n",
       "      <td>7823.833883</td>\n",
       "      <td>2.754930e-01</td>\n",
       "      <td>426.577577</td>\n",
       "    </tr>\n",
       "    <tr>\n",
       "      <th>17</th>\n",
       "      <td>Inverse-Gaussian-Log-Logistic-disjoint</td>\n",
       "      <td>6</td>\n",
       "      <td>2.46</td>\n",
       "      <td>-3933.358537</td>\n",
       "      <td>7804.782915</td>\n",
       "      <td>7823.825301</td>\n",
       "      <td>1.159541e-01</td>\n",
       "      <td>413.447235</td>\n",
       "    </tr>\n",
       "    <tr>\n",
       "      <th>20</th>\n",
       "      <td>Inverse-Gaussian-Lomax-disjoint</td>\n",
       "      <td>6</td>\n",
       "      <td>2.46</td>\n",
       "      <td>-3933.573622</td>\n",
       "      <td>7804.143815</td>\n",
       "      <td>7824.474596</td>\n",
       "      <td>9.351395e-02</td>\n",
       "      <td>420.858354</td>\n",
       "    </tr>\n",
       "    <tr>\n",
       "      <th>35</th>\n",
       "      <td>Inverse-Gaussian-Inverse-Weibull-disjoint</td>\n",
       "      <td>6</td>\n",
       "      <td>2.46</td>\n",
       "      <td>-3933.800044</td>\n",
       "      <td>7804.575159</td>\n",
       "      <td>7824.310885</td>\n",
       "      <td>7.456624e-02</td>\n",
       "      <td>403.775025</td>\n",
       "    </tr>\n",
       "    <tr>\n",
       "      <th>23</th>\n",
       "      <td>Inverse-Gaussian-Burr-disjoint</td>\n",
       "      <td>7</td>\n",
       "      <td>2.46</td>\n",
       "      <td>-3933.928455</td>\n",
       "      <td>9106.420784</td>\n",
       "      <td>7824.759926</td>\n",
       "      <td>6.558043e-02</td>\n",
       "      <td>2515.216134</td>\n",
       "    </tr>\n",
       "    <tr>\n",
       "      <th>29</th>\n",
       "      <td>Inverse-Gaussian-GPD-Tail-disjoint</td>\n",
       "      <td>6</td>\n",
       "      <td>2.46</td>\n",
       "      <td>-3935.451769</td>\n",
       "      <td>7802.583233</td>\n",
       "      <td>7825.733778</td>\n",
       "      <td>1.429577e-02</td>\n",
       "      <td>412.675560</td>\n",
       "    </tr>\n",
       "    <tr>\n",
       "      <th>33</th>\n",
       "      <td>Inverse-Gaussian-Inverse-Weibull-continuous</td>\n",
       "      <td>5</td>\n",
       "      <td>2.46</td>\n",
       "      <td>-3939.037038</td>\n",
       "      <td>7823.459490</td>\n",
       "      <td>7840.934694</td>\n",
       "      <td>3.964101e-04</td>\n",
       "      <td>480.115039</td>\n",
       "    </tr>\n",
       "    <tr>\n",
       "      <th>30</th>\n",
       "      <td>Inverse-Gaussian-Inverse-Gamma-continuous</td>\n",
       "      <td>5</td>\n",
       "      <td>2.46</td>\n",
       "      <td>-3939.835624</td>\n",
       "      <td>7825.286267</td>\n",
       "      <td>7842.435002</td>\n",
       "      <td>1.783706e-04</td>\n",
       "      <td>467.874043</td>\n",
       "    </tr>\n",
       "    <tr>\n",
       "      <th>14</th>\n",
       "      <td>Inverse-Gaussian-Lognormal-disjoint</td>\n",
       "      <td>6</td>\n",
       "      <td>2.46</td>\n",
       "      <td>-3940.128739</td>\n",
       "      <td>7814.712466</td>\n",
       "      <td>7834.349191</td>\n",
       "      <td>1.330532e-04</td>\n",
       "      <td>808.260009</td>\n",
       "    </tr>\n",
       "    <tr>\n",
       "      <th>18</th>\n",
       "      <td>Inverse-Gaussian-Lomax-continuous</td>\n",
       "      <td>5</td>\n",
       "      <td>2.46</td>\n",
       "      <td>-3940.229692</td>\n",
       "      <td>7826.068792</td>\n",
       "      <td>7843.517660</td>\n",
       "      <td>1.202768e-04</td>\n",
       "      <td>481.513895</td>\n",
       "    </tr>\n",
       "    <tr>\n",
       "      <th>21</th>\n",
       "      <td>Inverse-Gaussian-Burr-continuous</td>\n",
       "      <td>6</td>\n",
       "      <td>2.46</td>\n",
       "      <td>-3940.299990</td>\n",
       "      <td>8234.098855</td>\n",
       "      <td>7841.285831</td>\n",
       "      <td>1.121119e-04</td>\n",
       "      <td>2253.513160</td>\n",
       "    </tr>\n",
       "    <tr>\n",
       "      <th>15</th>\n",
       "      <td>Inverse-Gaussian-Log-Logistic-continuous</td>\n",
       "      <td>5</td>\n",
       "      <td>2.46</td>\n",
       "      <td>-3940.384284</td>\n",
       "      <td>7824.398550</td>\n",
       "      <td>7841.738567</td>\n",
       "      <td>1.030489e-04</td>\n",
       "      <td>470.047067</td>\n",
       "    </tr>\n",
       "    <tr>\n",
       "      <th>27</th>\n",
       "      <td>Inverse-Gaussian-GPD-Tail-continuous</td>\n",
       "      <td>5</td>\n",
       "      <td>2.46</td>\n",
       "      <td>-3940.846056</td>\n",
       "      <td>7826.186386</td>\n",
       "      <td>7843.256108</td>\n",
       "      <td>6.493788e-05</td>\n",
       "      <td>489.811230</td>\n",
       "    </tr>\n",
       "    <tr>\n",
       "      <th>8</th>\n",
       "      <td>Inverse-Gaussian-Weibull-disjoint</td>\n",
       "      <td>6</td>\n",
       "      <td>2.46</td>\n",
       "      <td>-3941.840585</td>\n",
       "      <td>7844.978712</td>\n",
       "      <td>7831.407430</td>\n",
       "      <td>2.402039e-05</td>\n",
       "      <td>828.865574</td>\n",
       "    </tr>\n",
       "    <tr>\n",
       "      <th>12</th>\n",
       "      <td>Inverse-Gaussian-Lognormal-continuous</td>\n",
       "      <td>5</td>\n",
       "      <td>2.46</td>\n",
       "      <td>-3942.571199</td>\n",
       "      <td>7832.059713</td>\n",
       "      <td>7847.262557</td>\n",
       "      <td>1.156853e-05</td>\n",
       "      <td>733.119454</td>\n",
       "    </tr>\n",
       "    <tr>\n",
       "      <th>24</th>\n",
       "      <td>Inverse-Gaussian-Pareto-Tail-continuous</td>\n",
       "      <td>4</td>\n",
       "      <td>2.46</td>\n",
       "      <td>-3944.416128</td>\n",
       "      <td>7842.610764</td>\n",
       "      <td>7855.288826</td>\n",
       "      <td>1.828251e-06</td>\n",
       "      <td>926.916574</td>\n",
       "    </tr>\n",
       "    <tr>\n",
       "      <th>6</th>\n",
       "      <td>Inverse-Gaussian-Weibull-continuous</td>\n",
       "      <td>5</td>\n",
       "      <td>2.46</td>\n",
       "      <td>-3948.368187</td>\n",
       "      <td>7842.897780</td>\n",
       "      <td>7851.607985</td>\n",
       "      <td>3.513002e-08</td>\n",
       "      <td>750.555180</td>\n",
       "    </tr>\n",
       "    <tr>\n",
       "      <th>9</th>\n",
       "      <td>Inverse-Gaussian-Inverse-Gaussian-continuous</td>\n",
       "      <td>5</td>\n",
       "      <td>2.46</td>\n",
       "      <td>-3969.983916</td>\n",
       "      <td>7911.195140</td>\n",
       "      <td>7903.075623</td>\n",
       "      <td>1.439085e-17</td>\n",
       "      <td>1063.444750</td>\n",
       "    </tr>\n",
       "    <tr>\n",
       "      <th>11</th>\n",
       "      <td>Inverse-Gaussian-Inverse-Gaussian-disjoint</td>\n",
       "      <td>6</td>\n",
       "      <td>2.46</td>\n",
       "      <td>-3974.067634</td>\n",
       "      <td>7899.094612</td>\n",
       "      <td>7905.209133</td>\n",
       "      <td>2.424098e-19</td>\n",
       "      <td>1124.670335</td>\n",
       "    </tr>\n",
       "    <tr>\n",
       "      <th>3</th>\n",
       "      <td>Inverse-Gaussian-Gamma-continuous</td>\n",
       "      <td>5</td>\n",
       "      <td>2.46</td>\n",
       "      <td>-4024.716151</td>\n",
       "      <td>7979.622479</td>\n",
       "      <td>7997.600661</td>\n",
       "      <td>2.444438e-41</td>\n",
       "      <td>1437.033346</td>\n",
       "    </tr>\n",
       "    <tr>\n",
       "      <th>5</th>\n",
       "      <td>Inverse-Gaussian-Gamma-disjoint</td>\n",
       "      <td>6</td>\n",
       "      <td>2.46</td>\n",
       "      <td>-4027.771319</td>\n",
       "      <td>7977.312207</td>\n",
       "      <td>8000.448559</td>\n",
       "      <td>1.151692e-42</td>\n",
       "      <td>1421.441385</td>\n",
       "    </tr>\n",
       "    <tr>\n",
       "      <th>31</th>\n",
       "      <td>Inverse-Gaussian-Inverse-Gamma-simple</td>\n",
       "      <td>5</td>\n",
       "      <td>2.46</td>\n",
       "      <td>-4038.339693</td>\n",
       "      <td>8035.634049</td>\n",
       "      <td>8050.578713</td>\n",
       "      <td>2.961759e-47</td>\n",
       "      <td>770.485472</td>\n",
       "    </tr>\n",
       "    <tr>\n",
       "      <th>25</th>\n",
       "      <td>Inverse-Gaussian-Pareto-Tail-simple</td>\n",
       "      <td>4</td>\n",
       "      <td>2.46</td>\n",
       "      <td>-4038.750658</td>\n",
       "      <td>8037.877445</td>\n",
       "      <td>8050.070585</td>\n",
       "      <td>1.963675e-47</td>\n",
       "      <td>738.904123</td>\n",
       "    </tr>\n",
       "    <tr>\n",
       "      <th>16</th>\n",
       "      <td>Inverse-Gaussian-Log-Logistic-simple</td>\n",
       "      <td>5</td>\n",
       "      <td>2.46</td>\n",
       "      <td>-4038.800366</td>\n",
       "      <td>8035.938885</td>\n",
       "      <td>8050.429550</td>\n",
       "      <td>1.868452e-47</td>\n",
       "      <td>772.305870</td>\n",
       "    </tr>\n",
       "    <tr>\n",
       "      <th>34</th>\n",
       "      <td>Inverse-Gaussian-Inverse-Weibull-simple</td>\n",
       "      <td>5</td>\n",
       "      <td>2.46</td>\n",
       "      <td>-4038.859734</td>\n",
       "      <td>8036.214438</td>\n",
       "      <td>8050.462596</td>\n",
       "      <td>1.760755e-47</td>\n",
       "      <td>766.430113</td>\n",
       "    </tr>\n",
       "    <tr>\n",
       "      <th>19</th>\n",
       "      <td>Inverse-Gaussian-Lomax-simple</td>\n",
       "      <td>5</td>\n",
       "      <td>2.46</td>\n",
       "      <td>-4039.317662</td>\n",
       "      <td>8035.885495</td>\n",
       "      <td>8050.411777</td>\n",
       "      <td>1.113841e-47</td>\n",
       "      <td>770.565173</td>\n",
       "    </tr>\n",
       "    <tr>\n",
       "      <th>22</th>\n",
       "      <td>Inverse-Gaussian-Burr-simple</td>\n",
       "      <td>6</td>\n",
       "      <td>2.46</td>\n",
       "      <td>-4039.442456</td>\n",
       "      <td>8674.454055</td>\n",
       "      <td>8050.252977</td>\n",
       "      <td>9.831640e-48</td>\n",
       "      <td>2458.096726</td>\n",
       "    </tr>\n",
       "    <tr>\n",
       "      <th>28</th>\n",
       "      <td>Inverse-Gaussian-GPD-Tail-simple</td>\n",
       "      <td>5</td>\n",
       "      <td>2.46</td>\n",
       "      <td>-4040.470720</td>\n",
       "      <td>8034.698120</td>\n",
       "      <td>8051.374045</td>\n",
       "      <td>3.516061e-48</td>\n",
       "      <td>761.271993</td>\n",
       "    </tr>\n",
       "    <tr>\n",
       "      <th>13</th>\n",
       "      <td>Inverse-Gaussian-Lognormal-simple</td>\n",
       "      <td>5</td>\n",
       "      <td>2.46</td>\n",
       "      <td>-4046.392871</td>\n",
       "      <td>8045.438020</td>\n",
       "      <td>8060.688681</td>\n",
       "      <td>9.421044e-51</td>\n",
       "      <td>1042.611162</td>\n",
       "    </tr>\n",
       "    <tr>\n",
       "      <th>7</th>\n",
       "      <td>Inverse-Gaussian-Weibull-simple</td>\n",
       "      <td>5</td>\n",
       "      <td>2.46</td>\n",
       "      <td>-4050.803380</td>\n",
       "      <td>8052.422110</td>\n",
       "      <td>8065.082665</td>\n",
       "      <td>1.144562e-52</td>\n",
       "      <td>990.341814</td>\n",
       "    </tr>\n",
       "    <tr>\n",
       "      <th>10</th>\n",
       "      <td>Inverse-Gaussian-Inverse-Gaussian-simple</td>\n",
       "      <td>5</td>\n",
       "      <td>2.46</td>\n",
       "      <td>-4079.084057</td>\n",
       "      <td>8124.648139</td>\n",
       "      <td>8132.560512</td>\n",
       "      <td>5.977190e-65</td>\n",
       "      <td>1117.378911</td>\n",
       "    </tr>\n",
       "    <tr>\n",
       "      <th>4</th>\n",
       "      <td>Inverse-Gaussian-Gamma-simple</td>\n",
       "      <td>5</td>\n",
       "      <td>2.46</td>\n",
       "      <td>-4132.653419</td>\n",
       "      <td>8208.867124</td>\n",
       "      <td>8226.238457</td>\n",
       "      <td>3.248021e-88</td>\n",
       "      <td>1278.837388</td>\n",
       "    </tr>\n",
       "    <tr>\n",
       "      <th>2</th>\n",
       "      <td>Inverse-Gaussian-Exp-disjoint</td>\n",
       "      <td>5</td>\n",
       "      <td>2.46</td>\n",
       "      <td>-4140.514660</td>\n",
       "      <td>8221.366474</td>\n",
       "      <td>8248.341132</td>\n",
       "      <td>1.251772e-91</td>\n",
       "      <td>1832.129181</td>\n",
       "    </tr>\n",
       "    <tr>\n",
       "      <th>0</th>\n",
       "      <td>Inverse-Gaussian-Exp-continuous</td>\n",
       "      <td>4</td>\n",
       "      <td>2.46</td>\n",
       "      <td>-4148.338726</td>\n",
       "      <td>8242.096284</td>\n",
       "      <td>8262.718994</td>\n",
       "      <td>5.006992e-95</td>\n",
       "      <td>1921.353845</td>\n",
       "    </tr>\n",
       "    <tr>\n",
       "      <th>1</th>\n",
       "      <td>Inverse-Gaussian-Exp-simple</td>\n",
       "      <td>4</td>\n",
       "      <td>2.46</td>\n",
       "      <td>-4247.025755</td>\n",
       "      <td>8452.864295</td>\n",
       "      <td>8474.888845</td>\n",
       "      <td>6.923798e-138</td>\n",
       "      <td>1635.688140</td>\n",
       "    </tr>\n",
       "  </tbody>\n",
       "</table>\n",
       "</div>"
      ],
      "text/plain": [
       "                                           model  d  γ_map     log_marg  \\\n",
       "32       Inverse-Gaussian-Inverse-Gamma-disjoint  6   2.46 -3932.227155   \n",
       "26         Inverse-Gaussian-Pareto-Tail-disjoint  5   2.46 -3932.493170   \n",
       "17        Inverse-Gaussian-Log-Logistic-disjoint  6   2.46 -3933.358537   \n",
       "20               Inverse-Gaussian-Lomax-disjoint  6   2.46 -3933.573622   \n",
       "35     Inverse-Gaussian-Inverse-Weibull-disjoint  6   2.46 -3933.800044   \n",
       "23                Inverse-Gaussian-Burr-disjoint  7   2.46 -3933.928455   \n",
       "29            Inverse-Gaussian-GPD-Tail-disjoint  6   2.46 -3935.451769   \n",
       "33   Inverse-Gaussian-Inverse-Weibull-continuous  5   2.46 -3939.037038   \n",
       "30     Inverse-Gaussian-Inverse-Gamma-continuous  5   2.46 -3939.835624   \n",
       "14           Inverse-Gaussian-Lognormal-disjoint  6   2.46 -3940.128739   \n",
       "18             Inverse-Gaussian-Lomax-continuous  5   2.46 -3940.229692   \n",
       "21              Inverse-Gaussian-Burr-continuous  6   2.46 -3940.299990   \n",
       "15      Inverse-Gaussian-Log-Logistic-continuous  5   2.46 -3940.384284   \n",
       "27          Inverse-Gaussian-GPD-Tail-continuous  5   2.46 -3940.846056   \n",
       "8              Inverse-Gaussian-Weibull-disjoint  6   2.46 -3941.840585   \n",
       "12         Inverse-Gaussian-Lognormal-continuous  5   2.46 -3942.571199   \n",
       "24       Inverse-Gaussian-Pareto-Tail-continuous  4   2.46 -3944.416128   \n",
       "6            Inverse-Gaussian-Weibull-continuous  5   2.46 -3948.368187   \n",
       "9   Inverse-Gaussian-Inverse-Gaussian-continuous  5   2.46 -3969.983916   \n",
       "11    Inverse-Gaussian-Inverse-Gaussian-disjoint  6   2.46 -3974.067634   \n",
       "3              Inverse-Gaussian-Gamma-continuous  5   2.46 -4024.716151   \n",
       "5                Inverse-Gaussian-Gamma-disjoint  6   2.46 -4027.771319   \n",
       "31         Inverse-Gaussian-Inverse-Gamma-simple  5   2.46 -4038.339693   \n",
       "25           Inverse-Gaussian-Pareto-Tail-simple  4   2.46 -4038.750658   \n",
       "16          Inverse-Gaussian-Log-Logistic-simple  5   2.46 -4038.800366   \n",
       "34       Inverse-Gaussian-Inverse-Weibull-simple  5   2.46 -4038.859734   \n",
       "19                 Inverse-Gaussian-Lomax-simple  5   2.46 -4039.317662   \n",
       "22                  Inverse-Gaussian-Burr-simple  6   2.46 -4039.442456   \n",
       "28              Inverse-Gaussian-GPD-Tail-simple  5   2.46 -4040.470720   \n",
       "13             Inverse-Gaussian-Lognormal-simple  5   2.46 -4046.392871   \n",
       "7                Inverse-Gaussian-Weibull-simple  5   2.46 -4050.803380   \n",
       "10      Inverse-Gaussian-Inverse-Gaussian-simple  5   2.46 -4079.084057   \n",
       "4                  Inverse-Gaussian-Gamma-simple  5   2.46 -4132.653419   \n",
       "2                  Inverse-Gaussian-Exp-disjoint  5   2.46 -4140.514660   \n",
       "0                Inverse-Gaussian-Exp-continuous  4   2.46 -4148.338726   \n",
       "1                    Inverse-Gaussian-Exp-simple  4   2.46 -4247.025755   \n",
       "\n",
       "            DIC         WAIC  posterior_probability    Wass_dist  \n",
       "32  7804.144683  7824.175644           3.594508e-01   411.968276  \n",
       "26  7806.328453  7823.833883           2.754930e-01   426.577577  \n",
       "17  7804.782915  7823.825301           1.159541e-01   413.447235  \n",
       "20  7804.143815  7824.474596           9.351395e-02   420.858354  \n",
       "35  7804.575159  7824.310885           7.456624e-02   403.775025  \n",
       "23  9106.420784  7824.759926           6.558043e-02  2515.216134  \n",
       "29  7802.583233  7825.733778           1.429577e-02   412.675560  \n",
       "33  7823.459490  7840.934694           3.964101e-04   480.115039  \n",
       "30  7825.286267  7842.435002           1.783706e-04   467.874043  \n",
       "14  7814.712466  7834.349191           1.330532e-04   808.260009  \n",
       "18  7826.068792  7843.517660           1.202768e-04   481.513895  \n",
       "21  8234.098855  7841.285831           1.121119e-04  2253.513160  \n",
       "15  7824.398550  7841.738567           1.030489e-04   470.047067  \n",
       "27  7826.186386  7843.256108           6.493788e-05   489.811230  \n",
       "8   7844.978712  7831.407430           2.402039e-05   828.865574  \n",
       "12  7832.059713  7847.262557           1.156853e-05   733.119454  \n",
       "24  7842.610764  7855.288826           1.828251e-06   926.916574  \n",
       "6   7842.897780  7851.607985           3.513002e-08   750.555180  \n",
       "9   7911.195140  7903.075623           1.439085e-17  1063.444750  \n",
       "11  7899.094612  7905.209133           2.424098e-19  1124.670335  \n",
       "3   7979.622479  7997.600661           2.444438e-41  1437.033346  \n",
       "5   7977.312207  8000.448559           1.151692e-42  1421.441385  \n",
       "31  8035.634049  8050.578713           2.961759e-47   770.485472  \n",
       "25  8037.877445  8050.070585           1.963675e-47   738.904123  \n",
       "16  8035.938885  8050.429550           1.868452e-47   772.305870  \n",
       "34  8036.214438  8050.462596           1.760755e-47   766.430113  \n",
       "19  8035.885495  8050.411777           1.113841e-47   770.565173  \n",
       "22  8674.454055  8050.252977           9.831640e-48  2458.096726  \n",
       "28  8034.698120  8051.374045           3.516061e-48   761.271993  \n",
       "13  8045.438020  8060.688681           9.421044e-51  1042.611162  \n",
       "7   8052.422110  8065.082665           1.144562e-52   990.341814  \n",
       "10  8124.648139  8132.560512           5.977190e-65  1117.378911  \n",
       "4   8208.867124  8226.238457           3.248021e-88  1278.837388  \n",
       "2   8221.366474  8248.341132           1.251772e-91  1832.129181  \n",
       "0   8242.096284  8262.718994           5.006992e-95  1921.353845  \n",
       "1   8452.864295  8474.888845          6.923798e-138  1635.688140  "
      ]
     },
     "execution_count": 22,
     "metadata": {},
     "output_type": "execute_result"
    }
   ],
   "source": [
    "fit_spliced_models_dic = dict(zip(f_names, res))\n",
    "γ_map = np.array([fit_spliced_models_dic[f_names[k]][0]['γ'].mean() for k in range(len(fit_spliced_models_dic))])\n",
    "spliced_model_df = pd.DataFrame({'model':f_names,\n",
    "                                 \"d\": np.array([f.d for f in fs]),\n",
    "                                 \"γ_map\": np.array([fit_spliced_models_dic[f_names[k]][0]['γ'].mean() for k in range(len(fit_spliced_models_dic))]),\n",
    "                                 'log_marg':  np.array([fit_spliced_models_dic[f_names[k]][1] for k in range(len(fit_spliced_models_dic))]), \n",
    "                                 \"DIC\": np.array([fit_spliced_models_dic[f_names[k]][2] for k in range(len(fit_spliced_models_dic))]), \n",
    "                                 \"WAIC\":np.array([fit_spliced_models_dic[f_names[k]][3] for k in range(len(fit_spliced_models_dic))])})\n",
    "spliced_model_df[\"posterior_probability\"] = np.exp(spliced_model_df[\"log_marg\"] - np.max(spliced_model_df[\"log_marg\"])) / np.sum(np.exp(spliced_model_df[\"log_marg\"] - np.max(spliced_model_df[\"log_marg\"]))) \n",
    "\n",
    "spliced_model_df[\"Wass_dist\"] = np.array([bs.compute_Wasserstein(X, fs_dict[model_name], fit_spliced_models_dic[model_name][0].mean().values, 1) for model_name in spliced_model_df[\"model\"].values])\n",
    "spliced_model_df.sort_values(by='log_marg', ascending=False)"
   ]
  },
  {
   "cell_type": "code",
   "execution_count": 29,
   "metadata": {},
   "outputs": [
    {
     "data": {
      "image/png": "[encoded data removed]",
      "text/plain": [
       "<Figure size 180x180 with 1 Axes>"
      ]
     },
     "metadata": {
      "needs_background": "light"
     },
     "output_type": "display_data"
    },
    {
     "data": {
      "image/png": "[encoded data removed]",
      "text/plain": [
       "<Figure size 180x180 with 1 Axes>"
      ]
     },
     "metadata": {
      "needs_background": "light"
     },
     "output_type": "display_data"
    },
    {
     "data": {
      "image/png": "[encoded data removed]",
      "text/plain": [
       "<Figure size 180x180 with 1 Axes>"
      ]
     },
     "metadata": {
      "needs_background": "light"
     },
     "output_type": "display_data"
    },
    {
     "data": {
      "image/png": "[encoded data removed]",
      "text/plain": [
       "<Figure size 180x180 with 1 Axes>"
      ]
     },
     "metadata": {
      "needs_background": "light"
     },
     "output_type": "display_data"
    },
    {
     "data": {
      "image/png": "[encoded data removed]",
      "text/plain": [
       "<Figure size 180x180 with 1 Axes>"
      ]
     },
     "metadata": {
      "needs_background": "light"
     },
     "output_type": "display_data"
    },
    {
     "data": {
      "image/png": "[encoded data removed]",
      "text/plain": [
       "<Figure size 180x180 with 1 Axes>"
      ]
     },
     "metadata": {
      "needs_background": "light"
     },
     "output_type": "display_data"
    },
    {
     "data": {
      "image/png": "[encoded data removed]",
      "text/plain": [
       "<Figure size 180x180 with 1 Axes>"
      ]
     },
     "metadata": {
      "needs_background": "light"
     },
     "output_type": "display_data"
    }
   ],
   "source": [
    "model_names = spliced_model_df.sort_values(by='log_marg', ascending=False)[\"model\"][:7]\n",
    "for model_name in model_names:\n",
    "    f, trace = fs_dict[model_name], fit_spliced_models_dic[model_name][0]\n",
    "    # print(trace.mean().values)\n",
    "    # bs.posterior_plots(f, trace)\n",
    "    # bs.trace_plots(f, trace)\n",
    "    bs.qq_plot(X, f, trace.mean().values)"
   ]
  },
  {
   "cell_type": "code",
   "execution_count": null,
   "metadata": {},
   "outputs": [],
   "source": []
  }
 ],
 "metadata": {
  "kernelspec": {
   "display_name": "Python 3 (ipykernel)",
   "language": "python",
   "name": "python3"
  },
  "language_info": {
   "codemirror_mode": {
    "name": "ipython",
    "version": 3
   },
   "file_extension": ".py",
   "mimetype": "text/x-python",
   "name": "python",
   "nbconvert_exporter": "python",
   "pygments_lexer": "ipython3",
   "version": "3.9.7"
  }
 },
 "nbformat": 4,
 "nbformat_minor": 4
}
