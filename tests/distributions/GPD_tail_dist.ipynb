{
 "cells": [
  {
   "cell_type": "code",
   "execution_count": 1,
   "id": "55777452-ea16-42c8-a58c-d1b2ef16128a",
   "metadata": {},
   "outputs": [],
   "source": [
    "import scipy.special as sp\n",
    "import math as ma\n",
    "import numpy as np\n",
    "import scipy.stats as st\n",
    "import numba as nb\n",
    "import seaborn as sns\n",
    "import matplotlib.pyplot as plt\n",
    "import pandas as pd\n",
    "from scipy.optimize import minimize\n",
    "import bayessplicedmodels as bsm\n",
    "from joblib import Parallel, delayed"
   ]
  },
  {
   "cell_type": "markdown",
   "id": "35b50bc7-7de2-4427-b09d-79a0852822fb",
   "metadata": {},
   "source": [
    "# GPD tail distribution\n",
    "\n",
    "$X\\sim\\text{GPD}(\\xi, \\sigma, \\gamma)$ with pdf\n",
    "\n",
    "$$\n",
    "f(x) = \\sigma^{-1}\\left[1+\\frac{ \\xi(x-\\gamma)}{\\sigma}\\right]^{-(\\xi+1)/\\xi},\\text{ }x>\\gamma\n",
    "$$"
   ]
  },
  {
   "cell_type": "code",
   "execution_count": 11,
   "id": "ec07157a-7bf5-4109-a740-2028573750f3",
   "metadata": {},
   "outputs": [],
   "source": [
    "class loss_model:\n",
    "    def __init__(self,name, parm_names):\n",
    "        self.name = name\n",
    "        self.parm_names = parm_names\n",
    "        self.d= len(parm_names)\n",
    "    \n",
    "    def set_logps(self):\n",
    "        if self.name == \"GPD-Tail\":\n",
    "            def logp_body(X, parms,  γ):\n",
    "                return(-np.inf)\n",
    "            \n",
    "            def logp_tail(X, parms,  γ):\n",
    "                ξ, σ  = parms\n",
    "                if np.all(parms > 0):\n",
    "                    return(- len(X)* np.log(σ) -(1 + ξ) / ξ * np.sum(np.log(1+ξ *(X - γ) / σ)))\n",
    "                else:\n",
    "                    return(-np.inf)\n",
    "            \n",
    "            self.logp_body = nb.jit(nopython = True)(logp_body)\n",
    "            self.logp_tail = nb.jit(nopython = True)(logp_tail)\n",
    "    \n",
    "    def set_logds(self):\n",
    "        if self.name == \"GPD-Tail\":\n",
    "            \n",
    "            def logd_body(x, parms,  γ):\n",
    "                return(None)\n",
    "            \n",
    "            def logd_tail(x, parms,  γ):\n",
    "                ξ, σ = parms[:,0], parms[:,1]\n",
    "                res = np.zeros(len(ξ))\n",
    "                s = np.logical_and(np.logical_and(ξ > 0, σ), x > γ)\n",
    "                res[np.where(s)] = - np.log(σ[s]) -(1 + ξ[s]) / ξ[s] * np.log(1+ξ[s] *(x - γ[s]) / σ[s])\n",
    "                res[np.where(np.invert(s))] = -np.inf\n",
    "                return(res)\n",
    "            \n",
    "            self.logd_body = logd_body\n",
    "            self.logd_tail = logd_tail\n",
    "    \n",
    "    def set_cdf(self):\n",
    "        def cdf(parms, γ, x):\n",
    "                ξ, σ  = parms\n",
    "                return(1 - (1+ ξ*(x - γ) / σ )**(-1 / ξ) )\n",
    "        self.cdf = nb.jit(nopython = True)(cdf)\n",
    "    \n",
    "    def set_pdf(self):\n",
    "        if self.name == \"GPD-Tail\":\n",
    "            def pdf(parms, γ, x):\n",
    "                ξ, σ  = parms\n",
    "                return(1 / σ * (1+ ξ*(x - γ) / σ )**(-(1+ξ) / ξ) )\n",
    "        self.pdf = nb.jit(nopython = True)(pdf)\n",
    "                \n",
    "        \n",
    "    def set_ppf(self):\n",
    "        if self.name == \"GPD-Tail\":\n",
    "            def ppf(parms, γ, y):\n",
    "                ξ, σ = parms\n",
    "                return(γ + σ / ξ * ((1 - y)**(-ξ) - 1))\n",
    "        self.ppf = ppf"
   ]
  },
  {
   "cell_type": "code",
   "execution_count": 13,
   "id": "127a81e3-9d33-47dd-9e4d-97d83577ac06",
   "metadata": {},
   "outputs": [
    {
     "name": "stdout",
     "output_type": "stream",
     "text": [
      "GPD-Tail ['ξ', 'σ'] 2\n"
     ]
    },
    {
     "data": {
      "text/plain": [
       "(-2.7755575615628914e-17, 0.0, 0.0)"
      ]
     },
     "execution_count": 13,
     "metadata": {},
     "output_type": "execute_result"
    }
   ],
   "source": [
    "gdp_tail_dist = loss_model(\"GPD-Tail\", [\"ξ\", \"σ\"])\n",
    "print(gdp_tail_dist.name, gdp_tail_dist.parm_names, gdp_tail_dist.d)\n",
    "parms = np.array([2, 3])\n",
    "ξ, σ = parms\n",
    "x, y = 2, 0.5\n",
    "γ = 1.5\n",
    "gdp_tail_dist.set_cdf(), gdp_tail_dist.set_pdf(), gdp_tail_dist.set_ppf()\n",
    "gdp_tail_dist.cdf(parms,γ, x) - st.genpareto(ξ).cdf((x-γ) / σ), gdp_tail_dist.ppf(parms, γ, y)-  (γ +  σ * st.genpareto(ξ).ppf(y)), gdp_tail_dist.pdf(parms,γ,  γ)-  st.genpareto(ξ).pdf((γ-γ) / σ) / σ "
   ]
  },
  {
   "cell_type": "code",
   "execution_count": 14,
   "id": "9a8366c4-96b1-4828-92e8-624fbd2b5f75",
   "metadata": {},
   "outputs": [
    {
     "name": "stdout",
     "output_type": "stream",
     "text": [
      "0.0\n"
     ]
    }
   ],
   "source": [
    "X = st.genpareto(ξ).rvs(size = 100) * σ + γ\n",
    "gdp_tail_dist.set_logps()\n",
    "print(gdp_tail_dist.logp_tail(X, parms, γ)-  np.sum(np.log(st.genpareto(ξ).pdf((X-γ) / σ) / σ )))"
   ]
  },
  {
   "cell_type": "code",
   "execution_count": 15,
   "id": "2a0ef1be-c987-48d0-a7fc-3266995bf332",
   "metadata": {},
   "outputs": [
    {
     "name": "stdout",
     "output_type": "stream",
     "text": [
      "[-4.44089210e-16  2.22044605e-16  0.00000000e+00  0.00000000e+00\n",
      " -4.44089210e-16  0.00000000e+00  0.00000000e+00  1.33226763e-15\n",
      " -4.44089210e-16  0.00000000e+00  0.00000000e+00  0.00000000e+00\n",
      " -6.66133815e-16 -8.88178420e-16  0.00000000e+00  4.44089210e-16\n",
      " -4.44089210e-16             nan  0.00000000e+00  4.44089210e-16]\n"
     ]
    },
    {
     "name": "stderr",
     "output_type": "stream",
     "text": [
      "C:\\Users\\pierr\\AppData\\Local\\Temp/ipykernel_496/1651546845.py:8: RuntimeWarning: divide by zero encountered in log\n",
      "  np.array([np.log(st.genpareto(ξ_vec[i]).pdf((X[0]-γ_vec[i]) / σ_vec[i]) / σ_vec[i]) for i in range(len(γ_vec)) ]) )\n",
      "C:\\Users\\pierr\\AppData\\Local\\Temp/ipykernel_496/1651546845.py:7: RuntimeWarning: invalid value encountered in subtract\n",
      "  print(gdp_tail_dist.logd_tail(X[0], particle_cloud.values, particle_cloud.values[:,-1]) -\n"
     ]
    }
   ],
   "source": [
    "X = st.genpareto(ξ).rvs(size = 100) * σ + γ\n",
    "ξ_prior, σ_prior, γ_prior= bsm.prior_model('gamma','ξ', 1, 1), bsm.prior_model('gamma','σ', 1, 1),  bsm.prior_model('gamma','γ', 1, 1)\n",
    "prior_gamma_model = bsm.independent_priors([ξ_prior, σ_prior, γ_prior])\n",
    "particle_cloud = prior_gamma_model.sample(20)\n",
    "gdp_tail_dist.set_logds()\n",
    "ξ_vec, σ_vec, γ_vec = particle_cloud.values[:,0], particle_cloud.values[:,1], particle_cloud.values[:,2]\n",
    "print(gdp_tail_dist.logd_tail(X[0], particle_cloud.values, particle_cloud.values[:,-1]) - \n",
    "      np.array([np.log(st.genpareto(ξ_vec[i]).pdf((X[0]-γ_vec[i]) / σ_vec[i]) / σ_vec[i]) for i in range(len(γ_vec)) ]) )"
   ]
  },
  {
   "cell_type": "code",
   "execution_count": 23,
   "id": "20e18ac0-9589-49fa-9a6f-3e1b20568432",
   "metadata": {},
   "outputs": [
    {
     "data": {
      "image/png": "[encoded data removed]",
      "text/plain": [
       "<Figure size 432x288 with 1 Axes>"
      ]
     },
     "metadata": {
      "needs_background": "light"
     },
     "output_type": "display_data"
    }
   ],
   "source": [
    "import bayessplicedmodels as bsm\n",
    "parms_true = np.array([3, 1.6, 2, 2])\n",
    "f1, f2 =  bsm.loss_model(\"Exp\", [\"k1\"]), loss_model(\"GPD-Tail\", [\"ξ2\", \"σ2\"])\n",
    "f = bsm.spliced_loss_model(f1 , f2, \"continuous\") \n",
    "X= f.sample(parms_true, 500) \n",
    "plt.hist(X,bins=200)\n",
    "sns.despine()\n"
   ]
  },
  {
   "cell_type": "code",
   "execution_count": 24,
   "id": "47a96696-4470-4381-af60-7fb4d3dd9119",
   "metadata": {},
   "outputs": [],
   "source": [
    "k1_prior, β1_prior = bsm.prior_model('gamma','k1', 1, 1), bsm.prior_model('fixed','β1', 1, 1)\n",
    "ξ_prior, σ_prior= bsm.prior_model('gamma','ξ2', 1, 1), bsm.prior_model('gamma','σ2', 1, 1)\n",
    "γ_prior, p_prior =  bsm.prior_model('gamma','γ',1, 1), bsm.prior_model('beta', 'p', 2, 2)\n",
    "prior_spliced_model = bsm.independent_priors([k1_prior,ξ_prior, σ_prior, γ_prior])"
   ]
  },
  {
   "cell_type": "code",
   "execution_count": 25,
   "id": "c06bea3f-dc6a-48e7-b69e-27aa1a1728e0",
   "metadata": {},
   "outputs": [
    {
     "name": "stdout",
     "output_type": "stream",
     "text": [
      "Sample generation 0 from the gamma-gamma-gamma-gamma prior distribution\n",
      "Generation: 1 ;temperature: 0.007521629333496094 ;ESS: 2000 ;steps:3 ;particle moved: 99.075%\n",
      "Generation: 2 ;temperature: 0.027043081799547508 ;ESS: 1999 ;steps:3 ;particle moved: 98.225%\n",
      "Generation: 3 ;temperature: 0.07600405215072192 ;ESS: 2000 ;steps:4 ;particle moved: 99.25%\n",
      "Generation: 4 ;temperature: 0.1915776441127317 ;ESS: 2000 ;steps:4 ;particle moved: 99.0%\n",
      "Generation: 5 ;temperature: 0.4307593059236523 ;ESS: 2000 ;steps:4 ;particle moved: 99.3%\n",
      "Generation: 6 ;temperature: 0.9282563576892346 ;ESS: 1999 ;steps:4 ;particle moved: 99.775%\n",
      "Generation: 7 ;temperature: 1.0 ;ESS: 3954 ;steps:3 ;particle moved: 98.9%\n",
      "Wall time: 9.29 s\n"
     ]
    }
   ],
   "source": [
    "popSize, ρ, c, n_step_max, err, paralell, n_proc, verbose = 4000, 1/2, 0.99, 25, 1e-6, False, 4, True\n",
    "%time trace, log_marg, DIC, WAIC = bsm.smc_likelihood_annealing(X, f, popSize, prior_spliced_model, ρ, c,n_step_max, err, paralell, 4, verbose)"
   ]
  },
  {
   "cell_type": "code",
   "execution_count": 26,
   "id": "221ff5b0-cc4d-48cd-952a-bd7cc8330fbd",
   "metadata": {},
   "outputs": [
    {
     "data": {
      "image/png": "[encoded data removed]",
      "text/plain": [
       "<Figure size 720x252 with 4 Axes>"
      ]
     },
     "metadata": {
      "needs_background": "light"
     },
     "output_type": "display_data"
    },
    {
     "data": {
      "image/png": "[encoded data removed]",
      "text/plain": [
       "<Figure size 720x252 with 4 Axes>"
      ]
     },
     "metadata": {
      "needs_background": "light"
     },
     "output_type": "display_data"
    },
    {
     "data": {
      "image/png": "[encoded data removed]",
      "text/plain": [
       "<Figure size 180x180 with 1 Axes>"
      ]
     },
     "metadata": {
      "needs_background": "light"
     },
     "output_type": "display_data"
    }
   ],
   "source": [
    "bsm.posterior_plots(f, trace)\n",
    "bsm.trace_plots(f, trace)\n",
    "bsm.qq_plot(X, f, trace.mean().values)"
   ]
  },
  {
   "cell_type": "markdown",
   "id": "4a373694-dc79-4c66-9cef-46fe45a7453f",
   "metadata": {},
   "source": [
    "## On the danish fire insurance data"
   ]
  },
  {
   "cell_type": "code",
   "execution_count": 32,
   "id": "244a056a-2969-4d5c-a4b2-e9298ffacb83",
   "metadata": {},
   "outputs": [],
   "source": [
    "# The data\n",
    "danish = pd.read_csv(\"Data/danish.csv\").x\n",
    "X = danish.values\n",
    "# Model for the bulk distribution\n",
    "body_model_names = [\"Exp\", \"Gamma\", \"Weibull\", \"Inverse-Gaussian\", \"Lognormal\"]\n",
    "body_model_param_names = [['λ1'], [\"r1\", \"m1\"], [\"k1\", \"β1\"], [\"μ1\", \"λ1\"], [\"μ1\", \"σ1\"]]\n",
    "# Prior distributions over the parameters of the bulk distribution\n",
    "body_model_priors= [[bsm.prior_model('gamma',body_model_param_names[0][0], 1, 1)],\n",
    "                [bsm.prior_model('gamma',body_model_param_names[1][0], 1, 1), bsm.prior_model('gamma',body_model_param_names[1][1], 1, 1)], \n",
    "                [bsm.prior_model('gamma',body_model_param_names[2][0], 1, 1), bsm.prior_model('gamma',body_model_param_names[2][1], 1, 1)],\n",
    "                [bsm.prior_model('gamma',body_model_param_names[3][0], 1, 1), bsm.prior_model('gamma',body_model_param_names[3][1], 1, 1)],\n",
    "                [bsm.prior_model('normal',body_model_param_names[4][0], 0, 0.5), bsm.prior_model('gamma',body_model_param_names[4][1], 1, 1)]\n",
    "]\n",
    "\n",
    "# Model for the tail of the distribution\n",
    "tail_model_names = [\"GPD-Tail\"]\n",
    "tail_model_param_names = [[\"ξ2\", \"σ2\"]]\n",
    "\n",
    "# Prior distributions over the parameters of the bulk distribution\n",
    "tail_model_priors= [\n",
    "                [bsm.prior_model('gamma',tail_model_param_names[0][0], 1, 1), bsm.prior_model('gamma',tail_model_param_names[0][1], 1, 1)]]\n",
    "γ_prior, p_prior = bsm.prior_model('uniform', \"γ\", min(X), max(X)), bsm.prior_model('uniform',\"p\", 0, 1)\n",
    "\n",
    "#Splicing model type\n",
    "splicing_types = [\"continuous\"]\n",
    "\n",
    "# Setting the models\n",
    "fs, f_names, prior_spliced_model = [], [], []\n",
    "for i in range(len(body_model_names)):\n",
    "    for j in range(len(tail_model_names)):\n",
    "        for splicing_type in splicing_types:\n",
    "            f1, f2 =  bsm.loss_model(body_model_names[i], body_model_param_names[i]), bsm.loss_model(tail_model_names[j], tail_model_param_names[j])\n",
    "            fs.append(bsm.spliced_loss_model(f1 , f2, splicing_type))\n",
    "            f_names.append(body_model_names[i] +\"-\"+ tail_model_names[j]+\"-\"+splicing_type)\n",
    "            if splicing_type == \"disjoint\": \n",
    "                prior_spliced_model.append(bsm.independent_priors(body_model_priors[i] + tail_model_priors[j] + [γ_prior, p_prior]))\n",
    "            else:\n",
    "                prior_spliced_model.append(bsm.independent_priors(body_model_priors[i] + tail_model_priors[j] + [γ_prior]))    \n",
    "fs_dict = dict(zip(f_names, fs))"
   ]
  },
  {
   "cell_type": "code",
   "execution_count": 33,
   "id": "c2cb5d13-c7be-4409-bb6d-b64e7ca4d80f",
   "metadata": {},
   "outputs": [
    {
     "name": "stdout",
     "output_type": "stream",
     "text": [
      "Wall time: 1min 56s\n"
     ]
    }
   ],
   "source": [
    "popSize, ρ, c, n_step_max, err, paralell, n_proc, verbose = 4000, 1/2, 0.99, 25, 1e-6, False, 4, False\n",
    "def fit_spliced_models(i):     \n",
    "        trace, log_marg, DIC, WAIC = bsm.smc_likelihood_annealing(X, fs[i], popSize, prior_spliced_model[i], ρ, c,n_step_max, err, paralell, 4, verbose)\n",
    "        return([trace, log_marg, DIC, WAIC])\n",
    "%time res = Parallel(n_jobs=4)(delayed(fit_spliced_models)(i) for i in range(len(f_names)))"
   ]
  },
  {
   "cell_type": "code",
   "execution_count": 34,
   "id": "4b9b914e-fa40-4e10-9981-b0a7943a1929",
   "metadata": {},
   "outputs": [
    {
     "data": {
      "text/html": [
       "<div>\n",
       "<style scoped>\n",
       "    .dataframe tbody tr th:only-of-type {\n",
       "        vertical-align: middle;\n",
       "    }\n",
       "\n",
       "    .dataframe tbody tr th {\n",
       "        vertical-align: top;\n",
       "    }\n",
       "\n",
       "    .dataframe thead th {\n",
       "        text-align: right;\n",
       "    }\n",
       "</style>\n",
       "<table border=\"1\" class=\"dataframe\">\n",
       "  <thead>\n",
       "    <tr style=\"text-align: right;\">\n",
       "      <th></th>\n",
       "      <th>model</th>\n",
       "      <th>d</th>\n",
       "      <th>γ_map</th>\n",
       "      <th>log_marg</th>\n",
       "      <th>DIC</th>\n",
       "      <th>WAIC</th>\n",
       "      <th>posterior_probability</th>\n",
       "      <th>Wass_dist</th>\n",
       "    </tr>\n",
       "  </thead>\n",
       "  <tbody>\n",
       "    <tr>\n",
       "      <th>3</th>\n",
       "      <td>Inverse-Gaussian-GPD-Tail-continuous</td>\n",
       "      <td>5</td>\n",
       "      <td>0.975286</td>\n",
       "      <td>-3848.139058</td>\n",
       "      <td>7576.119428</td>\n",
       "      <td>7592.104605</td>\n",
       "      <td>0.983312</td>\n",
       "      <td>433.928200</td>\n",
       "    </tr>\n",
       "    <tr>\n",
       "      <th>2</th>\n",
       "      <td>Weibull-GPD-Tail-continuous</td>\n",
       "      <td>5</td>\n",
       "      <td>0.931802</td>\n",
       "      <td>-3852.351478</td>\n",
       "      <td>7630.152254</td>\n",
       "      <td>7651.536978</td>\n",
       "      <td>0.014563</td>\n",
       "      <td>544.105799</td>\n",
       "    </tr>\n",
       "    <tr>\n",
       "      <th>1</th>\n",
       "      <td>Gamma-GPD-Tail-continuous</td>\n",
       "      <td>5</td>\n",
       "      <td>0.931853</td>\n",
       "      <td>-3854.280348</td>\n",
       "      <td>7629.861064</td>\n",
       "      <td>7652.449187</td>\n",
       "      <td>0.002116</td>\n",
       "      <td>544.305330</td>\n",
       "    </tr>\n",
       "    <tr>\n",
       "      <th>4</th>\n",
       "      <td>Lognormal-GPD-Tail-continuous</td>\n",
       "      <td>5</td>\n",
       "      <td>0.933598</td>\n",
       "      <td>-3859.813355</td>\n",
       "      <td>7645.752411</td>\n",
       "      <td>7669.409770</td>\n",
       "      <td>0.000008</td>\n",
       "      <td>545.734584</td>\n",
       "    </tr>\n",
       "    <tr>\n",
       "      <th>0</th>\n",
       "      <td>Exp-GPD-Tail-continuous</td>\n",
       "      <td>4</td>\n",
       "      <td>1.824609</td>\n",
       "      <td>-4657.753172</td>\n",
       "      <td>9268.749082</td>\n",
       "      <td>9281.804377</td>\n",
       "      <td>0.000000</td>\n",
       "      <td>849.362376</td>\n",
       "    </tr>\n",
       "  </tbody>\n",
       "</table>\n",
       "</div>"
      ],
      "text/plain": [
       "                                  model  d     γ_map     log_marg  \\\n",
       "3  Inverse-Gaussian-GPD-Tail-continuous  5  0.975286 -3848.139058   \n",
       "2           Weibull-GPD-Tail-continuous  5  0.931802 -3852.351478   \n",
       "1             Gamma-GPD-Tail-continuous  5  0.931853 -3854.280348   \n",
       "4         Lognormal-GPD-Tail-continuous  5  0.933598 -3859.813355   \n",
       "0               Exp-GPD-Tail-continuous  4  1.824609 -4657.753172   \n",
       "\n",
       "           DIC         WAIC  posterior_probability   Wass_dist  \n",
       "3  7576.119428  7592.104605               0.983312  433.928200  \n",
       "2  7630.152254  7651.536978               0.014563  544.105799  \n",
       "1  7629.861064  7652.449187               0.002116  544.305330  \n",
       "4  7645.752411  7669.409770               0.000008  545.734584  \n",
       "0  9268.749082  9281.804377               0.000000  849.362376  "
      ]
     },
     "execution_count": 34,
     "metadata": {},
     "output_type": "execute_result"
    }
   ],
   "source": [
    "fit_spliced_models_dic = dict(zip(f_names, res))\n",
    "γ_map = np.array([fit_spliced_models_dic[f_names[k]][0]['γ'].mean() for k in range(len(fit_spliced_models_dic))])\n",
    "spliced_model_df = pd.DataFrame({'model':f_names,\n",
    "                                 \"d\": np.array([f.d for f in fs]),\n",
    "                                 \"γ_map\": np.array([fit_spliced_models_dic[f_names[k]][0]['γ'].mean() for k in range(len(fit_spliced_models_dic))]),\n",
    "                                 'log_marg':  np.array([fit_spliced_models_dic[f_names[k]][1] for k in range(len(fit_spliced_models_dic))]), \n",
    "                                 \"DIC\": np.array([fit_spliced_models_dic[f_names[k]][2] for k in range(len(fit_spliced_models_dic))]), \n",
    "                                 \"WAIC\":np.array([fit_spliced_models_dic[f_names[k]][3] for k in range(len(fit_spliced_models_dic))])})\n",
    "spliced_model_df[\"posterior_probability\"] = np.exp(spliced_model_df[\"log_marg\"] - np.max(spliced_model_df[\"log_marg\"])) / np.sum(np.exp(spliced_model_df[\"log_marg\"] - np.max(spliced_model_df[\"log_marg\"]))) \n",
    "\n",
    "spliced_model_df[\"Wass_dist\"] = np.array([bsm.compute_Wasserstein(X, fs_dict[model_name], fit_spliced_models_dic[model_name][0].mean().values, 1) for model_name in spliced_model_df[\"model\"].values])\n",
    "spliced_model_df.sort_values(by='log_marg', ascending=False)"
   ]
  },
  {
   "cell_type": "code",
   "execution_count": 36,
   "id": "54a3e3f5-655e-4de0-be32-c8913b5773e9",
   "metadata": {},
   "outputs": [
    {
     "data": {
      "image/png": "[encoded data removed]",
      "text/plain": [
       "<Figure size 180x180 with 1 Axes>"
      ]
     },
     "metadata": {
      "needs_background": "light"
     },
     "output_type": "display_data"
    },
    {
     "data": {
      "image/png": "[encoded data removed]",
      "text/plain": [
       "<Figure size 180x180 with 1 Axes>"
      ]
     },
     "metadata": {
      "needs_background": "light"
     },
     "output_type": "display_data"
    },
    {
     "data": {
      "image/png": "[encoded data removed]",
      "text/plain": [
       "<Figure size 180x180 with 1 Axes>"
      ]
     },
     "metadata": {
      "needs_background": "light"
     },
     "output_type": "display_data"
    },
    {
     "data": {
      "image/png": "[encoded data removed]",
      "text/plain": [
       "<Figure size 180x180 with 1 Axes>"
      ]
     },
     "metadata": {
      "needs_background": "light"
     },
     "output_type": "display_data"
    },
    {
     "data": {
      "image/png": "[encoded data removed]",
      "text/plain": [
       "<Figure size 180x180 with 1 Axes>"
      ]
     },
     "metadata": {
      "needs_background": "light"
     },
     "output_type": "display_data"
    }
   ],
   "source": [
    "model_names = spliced_model_df.sort_values(by='log_marg', ascending=False)[\"model\"]\n",
    "for model_name in model_names:\n",
    "    f, trace = fs_dict[model_name], fit_spliced_models_dic[model_name][0]\n",
    "    # print(trace.mean().values)\n",
    "    # bsm.posterior_plots(f, trace)\n",
    "    # bsm.trace_plots(f, trace)\n",
    "    bsm.qq_plot(X, f, trace.mean().values)"
   ]
  },
  {
   "cell_type": "code",
   "execution_count": null,
   "id": "39dfcf8f-d279-4bc9-b837-3cd36a8fb944",
   "metadata": {},
   "outputs": [],
   "source": []
  }
 ],
 "metadata": {
  "kernelspec": {
   "display_name": "Python 3 (ipykernel)",
   "language": "python",
   "name": "python3"
  },
  "language_info": {
   "codemirror_mode": {
    "name": "ipython",
    "version": 3
   },
   "file_extension": ".py",
   "mimetype": "text/x-python",
   "name": "python",
   "nbconvert_exporter": "python",
   "pygments_lexer": "ipython3",
   "version": "3.9.7"
  }
 },
 "nbformat": 4,
 "nbformat_minor": 5
}
