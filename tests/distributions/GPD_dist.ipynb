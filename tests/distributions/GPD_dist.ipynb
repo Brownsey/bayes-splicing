{
 "cells": [
  {
   "cell_type": "code",
   "execution_count": 29,
   "id": "55777452-ea16-42c8-a58c-d1b2ef16128a",
   "metadata": {},
   "outputs": [],
   "source": [
    "import scipy.special as sp\n",
    "import math as ma\n",
    "import numpy as np\n",
    "import scipy.stats as st\n",
    "import numba as nb\n",
    "import seaborn as sns\n",
    "import matplotlib.pyplot as plt\n",
    "import pandas as pd\n",
    "from scipy.optimize import minimize\n",
    "import bayessplicedmodels as bsm"
   ]
  },
  {
   "cell_type": "markdown",
   "id": "35b50bc7-7de2-4427-b09d-79a0852822fb",
   "metadata": {},
   "source": [
    "# Generalized Pareto distribution\n",
    "\n",
    "$X\\sim\\text{GPD}(\\xi, \\sigma, \\gamma)$ with pdf\n",
    "\n",
    "$$\n",
    "f(x) = \\sigma^{-1}\\left[1+\\frac{ \\xi(x-\\gamma)}{\\sigma}\\right]^{-(\\xi+1)/\\xi},\\text{ }x>\\gamma\n",
    "$$"
   ]
  },
  {
   "cell_type": "code",
   "execution_count": 30,
   "id": "ec07157a-7bf5-4109-a740-2028573750f3",
   "metadata": {},
   "outputs": [],
   "source": [
    "class loss_model:\n",
    "    def __init__(self,name, parm_names):\n",
    "        self.name = name\n",
    "        self.parm_names = parm_names\n",
    "        self.d= len(parm_names)\n",
    "    \n",
    "    def set_logp(self, X):\n",
    "        if self.name == \"GPD\":\n",
    "            def logp(parms):\n",
    "                ξ, σ, γ = parms\n",
    "                if np.all(parms > 0) and np.all(X >= γ) :\n",
    "                    \n",
    "                    return(- len(X)* np.log(σ) -(1 + ξ) / ξ * np.sum(np.log(1+ξ *(X - γ) / σ)))\n",
    "                else:\n",
    "                    return(-np.inf)\n",
    "        self.logp = nb.jit(nopython = True)(logp)\n",
    "    \n",
    "    def set_logd(self, parms):\n",
    "        if self.name == \"GPD\":\n",
    "            def logd(x):\n",
    "                ξ, σ, γ = parms[:,0], parms[:,1], parms[:,2]\n",
    "                res = np.zeros(len(ξ))\n",
    "                s = np.logical_and(np.logical_and(np.logical_and(ξ > 0, σ > 0), γ <= x), γ > 0)\n",
    "                res[np.where(s)] = - np.log(σ[s]) -(1 + ξ[s]) / ξ[s] * np.log(1+ξ[s] *(x - γ[s]) / σ[s])\n",
    "                res[np.where(np.invert(s))] = -np.inf\n",
    "                return(res)\n",
    "        self.logd = logd\n",
    "    \n",
    "    def set_cdf(self):\n",
    "        if self.name == \"GPD\":\n",
    "            def cdf(parms, x):\n",
    "                ξ, σ, γ  = parms\n",
    "                return(1 - (1+ ξ*(x - γ) / σ )**(-1 / ξ) )\n",
    "        self.cdf = nb.jit(nopython = True)(cdf)\n",
    "    \n",
    "    def set_pdf(self):\n",
    "        if self.name == \"GPD\":\n",
    "            def pdf(parms, x):\n",
    "                ξ, σ, γ  = parms\n",
    "                return(1 / σ * (1+ ξ*(x - γ) / σ )**(-(1+ξ) / ξ) )\n",
    "        self.pdf = nb.jit(nopython = True)(pdf)\n",
    "                \n",
    "        \n",
    "    def set_ppf(self):\n",
    "        def ppf(parms, y):\n",
    "            if self.name == \"GPD\":\n",
    "                ξ, σ, γ  = parms\n",
    "                return( γ + σ / ξ * ((1 - y)**(-ξ) - 1) )\n",
    "        self.ppf = ppf\n",
    "        \n",
    "    def sample(self, parms, n):\n",
    "        if self.name == \"GPD\":\n",
    "            ξ, σ, γ  = parms\n",
    "            return( γ + σ * st.genpareto(ξ).rvs(n))"
   ]
  },
  {
   "cell_type": "code",
   "execution_count": 31,
   "id": "127a81e3-9d33-47dd-9e4d-97d83577ac06",
   "metadata": {},
   "outputs": [
    {
     "name": "stdout",
     "output_type": "stream",
     "text": [
      "GPD ['ξ', 'σ', 'γ'] 3\n"
     ]
    },
    {
     "data": {
      "text/plain": [
       "(-1.1102230246251565e-16,\n",
       " 0.0,\n",
       " 0.0,\n",
       " array([1.4485108 , 2.41362776, 3.51951939, 1.034346  , 2.44532325,\n",
       "        3.53898478, 2.1400118 , 1.46894727, 1.23890112, 1.43084576]))"
      ]
     },
     "execution_count": 31,
     "metadata": {},
     "output_type": "execute_result"
    }
   ],
   "source": [
    "GPD_dist = loss_model(\"GPD\", [\"ξ\", \"σ\", \"γ\"])\n",
    "print(GPD_dist.name, GPD_dist.parm_names, GPD_dist.d)\n",
    "parms = np.array([1/3, 1/2, 1])\n",
    "ξ, σ, γ = parms\n",
    "x, y = 2, 0.5\n",
    "GPD_dist.set_cdf(), GPD_dist.set_pdf(), GPD_dist.set_ppf()\n",
    "GPD_dist.cdf(parms, x) - st.genpareto(ξ).cdf((x-γ) / σ),\\\n",
    "GPD_dist.ppf(parms, y) -  (γ + σ * st.genpareto(ξ).ppf(y)),\\\n",
    "GPD_dist.pdf(parms, x)-  st.genpareto(ξ).pdf((x-γ) / σ) / σ,\\\n",
    "GPD_dist.sample(parms, 10)"
   ]
  },
  {
   "cell_type": "code",
   "execution_count": 32,
   "id": "9a8366c4-96b1-4828-92e8-624fbd2b5f75",
   "metadata": {},
   "outputs": [
    {
     "name": "stdout",
     "output_type": "stream",
     "text": [
      "4.440892098500626e-16\n"
     ]
    }
   ],
   "source": [
    "X = GPD_dist.sample(parms, 10)\n",
    "GPD_dist.set_logp(X)\n",
    "print(GPD_dist.logp(parms) - np.sum(np.log(st.genpareto(ξ).pdf((X-γ) / σ) / σ)))"
   ]
  },
  {
   "cell_type": "code",
   "execution_count": 33,
   "id": "2a0ef1be-c987-48d0-a7fc-3266995bf332",
   "metadata": {},
   "outputs": [
    {
     "name": "stdout",
     "output_type": "stream",
     "text": [
      "[            nan -1.66533454e-16             nan             nan\n",
      "             nan  0.00000000e+00             nan -2.22044605e-16\n",
      "  0.00000000e+00             nan             nan             nan\n",
      "             nan  0.00000000e+00 -4.44089210e-16             nan\n",
      "             nan             nan  2.22044605e-16  4.44089210e-16]\n"
     ]
    },
    {
     "name": "stderr",
     "output_type": "stream",
     "text": [
      "C:\\Users\\pierr\\AppData\\Local\\Temp/ipykernel_7104/2424556062.py:6: RuntimeWarning: divide by zero encountered in log\n",
      "  print(np.array([np.log(st.genpareto(ξ_vec[i]).pdf( (X[0] - γ_vec[i]) / σ_vec[i])/ σ_vec[i]) for i in range(len(γ_vec))] -\n",
      "C:\\Users\\pierr\\AppData\\Local\\Temp/ipykernel_7104/2424556062.py:6: RuntimeWarning: invalid value encountered in subtract\n",
      "  print(np.array([np.log(st.genpareto(ξ_vec[i]).pdf( (X[0] - γ_vec[i]) / σ_vec[i])/ σ_vec[i]) for i in range(len(γ_vec))] -\n"
     ]
    }
   ],
   "source": [
    "ξ_prior,σ_prior, γ_prior= bsm.prior_model('gamma','α', 1, 1), bsm.prior_model('gamma','σ', 1, 1), bsm.prior_model('gamma','γ', 1, 1)\n",
    "prior_gamma_model = bsm.independent_priors([ξ_prior, σ_prior, γ_prior])\n",
    "particle_cloud = prior_gamma_model.sample(20)\n",
    "GPD_dist.set_logd(particle_cloud.values)\n",
    "ξ_vec, σ_vec, γ_vec = particle_cloud.values[:,0], particle_cloud.values[:,1], particle_cloud.values[:,2]\n",
    "print(np.array([np.log(st.genpareto(ξ_vec[i]).pdf( (X[0] - γ_vec[i]) / σ_vec[i])/ σ_vec[i]) for i in range(len(γ_vec))] - \n",
    "               GPD_dist.logd(X[0])))"
   ]
  },
  {
   "cell_type": "code",
   "execution_count": 34,
   "id": "20e18ac0-9589-49fa-9a6f-3e1b20568432",
   "metadata": {},
   "outputs": [
    {
     "data": {
      "image/png": "[encoded data removed]",
      "text/plain": [
       "<Figure size 432x288 with 1 Axes>"
      ]
     },
     "metadata": {
      "needs_background": "light"
     },
     "output_type": "display_data"
    }
   ],
   "source": [
    "parms_true = np.array([1/3, 1/2, 1])\n",
    "f = loss_model(\"GPD\", [\"ξ\", \"σ\", \"γ\"])\n",
    "# X = f.sample(parms_true, 1000)\n",
    "danish = pd.read_csv(\"Data/danish.csv\").x\n",
    "X = danish.values\n",
    "plt.hist(X, bins=25)\n",
    "sns.despine()"
   ]
  },
  {
   "cell_type": "code",
   "execution_count": 35,
   "id": "043934e4-29f2-4b10-b5cf-048424db3752",
   "metadata": {},
   "outputs": [],
   "source": [
    "ξ_prior,σ_prior, γ_prior= bsm.prior_model('gamma','ξ', 1, 1), bsm.prior_model('gamma','σ', 1, 1), bsm.prior_model('fixed','γ', min(X), 1)\n",
    "prior_single_model = bsm.independent_priors([ξ_prior, σ_prior, γ_prior])"
   ]
  },
  {
   "cell_type": "code",
   "execution_count": 42,
   "id": "c06bea3f-dc6a-48e7-b69e-27aa1a1728e0",
   "metadata": {},
   "outputs": [
    {
     "name": "stdout",
     "output_type": "stream",
     "text": [
      "Sample generation 0 from the gamma-gamma-fixed prior distribution\n",
      "Generation: 1 ;temperature: 0.0014562606811523438 ;ESS: 999 ;steps:4 ;particle moved: 99.75%\n",
      "Generation: 2 ;temperature: 0.006464170146045944 ;ESS: 1000 ;steps:4 ;particle moved: 99.85000000000001%\n",
      "Generation: 3 ;temperature: 0.02312139305908746 ;ESS: 999 ;steps:3 ;particle moved: 98.95%\n",
      "Generation: 4 ;temperature: 0.07716818362503461 ;ESS: 1000 ;steps:3 ;particle moved: 100.0%\n",
      "Generation: 5 ;temperature: 0.25121631900435404 ;ESS: 1000 ;steps:3 ;particle moved: 100.0%\n",
      "Generation: 6 ;temperature: 0.8572964749028538 ;ESS: 999 ;steps:3 ;particle moved: 100.0%\n",
      "Generation: 7 ;temperature: 1.0 ;ESS: 1956 ;steps:3 ;particle moved: 100.0%\n",
      "Wall time: 7.18 s\n"
     ]
    }
   ],
   "source": [
    "popSize, ρ, c, n_step_max, err, paralell, n_proc, verbose = 2000, 1/2, 0.99, 25, 1e-6, False, 4, True\n",
    "%time trace, log_marg, DIC, WAIC = bsm.smc_likelihood_annealing(X, f, popSize, prior_single_model, ρ, c,n_step_max, err, paralell, 4, verbose)"
   ]
  },
  {
   "cell_type": "code",
   "execution_count": 43,
   "id": "fc0dcb56-5dd1-47f3-b926-e265d4ceaa6f",
   "metadata": {},
   "outputs": [
    {
     "name": "stdout",
     "output_type": "stream",
     "text": [
      "-4682.138421808854 9344.986915165808 9354.098578855115\n"
     ]
    },
    {
     "data": {
      "image/png": "[encoded data removed]",
      "text/plain": [
       "<Figure size 720x252 with 3 Axes>"
      ]
     },
     "metadata": {
      "needs_background": "light"
     },
     "output_type": "display_data"
    },
    {
     "data": {
      "image/png": "[encoded data removed]",
      "text/plain": [
       "<Figure size 720x252 with 3 Axes>"
      ]
     },
     "metadata": {
      "needs_background": "light"
     },
     "output_type": "display_data"
    },
    {
     "data": {
      "image/png": "[encoded data removed]",
      "text/plain": [
       "<Figure size 180x180 with 1 Axes>"
      ]
     },
     "metadata": {
      "needs_background": "light"
     },
     "output_type": "display_data"
    }
   ],
   "source": [
    "print(log_marg, DIC, WAIC)\n",
    "bsm.posterior_plots(f, trace)\n",
    "bsm.trace_plots(f, trace)\n",
    "f.set_ppf()\n",
    "bsm.qq_plot(X, f, trace.mean().values)"
   ]
  },
  {
   "cell_type": "code",
   "execution_count": null,
   "id": "1610f0c1-4433-48ac-b24c-421cba572645",
   "metadata": {},
   "outputs": [],
   "source": []
  },
  {
   "cell_type": "code",
   "execution_count": null,
   "id": "0d36d3ce-de78-45b7-87c5-3d635ff964f3",
   "metadata": {},
   "outputs": [],
   "source": []
  }
 ],
 "metadata": {
  "kernelspec": {
   "display_name": "Python 3 (ipykernel)",
   "language": "python",
   "name": "python3"
  },
  "language_info": {
   "codemirror_mode": {
    "name": "ipython",
    "version": 3
   },
   "file_extension": ".py",
   "mimetype": "text/x-python",
   "name": "python",
   "nbconvert_exporter": "python",
   "pygments_lexer": "ipython3",
   "version": "3.9.7"
  }
 },
 "nbformat": 4,
 "nbformat_minor": 5
}
