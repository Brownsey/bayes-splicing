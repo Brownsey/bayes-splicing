{
 "cells": [
  {
   "cell_type": "code",
   "execution_count": 1,
   "id": "caea34ec-7545-4da1-ac8a-67046a9a7b9e",
   "metadata": {},
   "outputs": [],
   "source": [
    "import scipy.special as sp\n",
    "import math as ma\n",
    "import numpy as np\n",
    "import scipy.stats as st\n",
    "import numba as nb\n",
    "import seaborn as sns\n",
    "import matplotlib.pyplot as plt\n",
    "import pandas as pd\n",
    "from scipy.optimize import minimize\n",
    "import bayessplicedmodels as bsm\n",
    "import datetime as dat"
   ]
  },
  {
   "cell_type": "markdown",
   "id": "c0c56b2d-80d7-4a8c-8d1d-bff06034d31e",
   "metadata": {},
   "source": [
    "# Composite models"
   ]
  },
  {
   "cell_type": "code",
   "execution_count": 2,
   "id": "be9621e3-7e13-4f06-9f5e-50820222cecb",
   "metadata": {},
   "outputs": [],
   "source": [
    "class spliced_loss_model():\n",
    "    \n",
    "    def __init__(self, f1, f2, model_type):\n",
    "        self.body = f1\n",
    "        self.tail = f2\n",
    "        self.model_type = model_type\n",
    "        if model_type == \"disjoint\":\n",
    "            self.d = f1.d + f2.d + 2 \n",
    "            self.parm_names = np.append(np.append(f1.parm_names, f2.parm_names), \n",
    "                                        np.array(['γ','p']))\n",
    "        elif model_type == \"simple\" or  model_type == \"continuous\":\n",
    "            self.d = f1.d + f2.d + 1\n",
    "            self.parm_names = np.append(np.append(f1.parm_names, f2.parm_names), \n",
    "                                        np.array(['γ']))\n",
    "        self.body.set_logps(), self.tail.set_logps(), self.body.set_cdf(), self.tail.set_cdf(), self.body.set_pdf(), self.tail.set_pdf(), self.body.set_logds(), self.tail.set_logds(), self.body.set_ppf(), self.tail.set_ppf()\n",
    "\n",
    "    \n",
    "    def set_logp(self, X):\n",
    "        \n",
    "        body_d, tail_d, logp_body, logp_tail = self.body.d, self.tail.d,\\\n",
    "            self.body.logp_body,self.tail.logp_tail\n",
    "        \n",
    "        model_type, cdf1, cdf2, pdf1, pdf2, f2_name = self.model_type, self.body.cdf, self.tail.cdf, self.body.pdf, self.tail.pdf, self.tail.name\n",
    "        def logp(parms):\n",
    "            parms_f1, parms_f2, γ = parms[:body_d], \\\n",
    "                parms[body_d: (body_d + tail_d)], \\\n",
    "                    parms[(body_d + tail_d)]\n",
    "            if \"Tail\" in f2_name:\n",
    "                if model_type == \"disjoint\":\n",
    "                    p = parms[-1]\n",
    "                elif model_type == \"simple\":\n",
    "                    S1, S2 = cdf1(parms_f1, γ), cdf2(parms_f2, γ, γ)\n",
    "                    s1, s2 = pdf1(parms_f1, γ), pdf2(parms_f2, γ, γ)\n",
    "                    if S1 > 0 and S2 < 1 and s1 > 0 and s2 > 0 :\n",
    "                        p =  S1\n",
    "                    else:\n",
    "                        p = 0\n",
    "\n",
    "                elif model_type == \"continuous\":\n",
    "                    S1, S2 = cdf1(parms_f1, γ), cdf2(parms_f2, γ, γ)\n",
    "                    s1, s2 = pdf1(parms_f1, γ), pdf2(parms_f2, γ, γ)\n",
    "                    if S1 > 0 and S2 < 1 and s1 > 0 and s2 > 0 :\n",
    "                        p =  s2 / (1 - S2) / ( s2 / (1 - S2) + s1 / S1)\n",
    "\n",
    "                    else:\n",
    "                        p = 0\n",
    "            else:\n",
    "                if model_type == \"disjoint\":\n",
    "                    p = parms[-1]\n",
    "                elif model_type == \"simple\":\n",
    "                    S1, S2 = cdf1(parms_f1, γ), cdf2(parms_f2, γ)\n",
    "                    s1, s2 = pdf1(parms_f1, γ), pdf2(parms_f2, γ)\n",
    "                    if S1 > 0 and S2 < 1 and s1 > 0 and s2 > 0 :\n",
    "                        p =  S1\n",
    "                    else:\n",
    "                        p = 0\n",
    "\n",
    "                elif model_type == \"continuous\":\n",
    "                    S1, S2 = cdf1(parms_f1, γ), cdf2(parms_f2, γ)\n",
    "                    s1, s2 = pdf1(parms_f1, γ), pdf2(parms_f2, γ)\n",
    "                    if S1 > 0 and S2 < 1 and s1 > 0 and s2 > 0 :\n",
    "                        p =  s2 / (1 - S2) / ( s2 / (1 - S2) + s1 / S1)\n",
    "\n",
    "                    else:\n",
    "                        p = 0\n",
    "            \n",
    "            if γ > 0 and p > 0 and p < 1:\n",
    "                X1 = X[X < γ]\n",
    "                X2 = X[X >= γ]\n",
    "                return(len(X1) * np.log(p) + \n",
    "                       logp_body(X1, parms_f1, γ) + \n",
    "                       len(X2) * np.log(1-p) + logp_tail(X2, parms_f2, γ))\n",
    "            else:\n",
    "                return(-np.inf)\n",
    "        self.logp = nb.jit(nopython = True)(logp)\n",
    "        \n",
    "    def sample(self, parms, n):\n",
    "        parms_f1, parms_f2, γ = parms[:self.body.d],\\\n",
    "            parms[self.body.d: (self.body.d + self.tail.d)], \\\n",
    "                parms[(self.body.d + self.tail.d)]\n",
    "        model_type, cdf1, cdf2, pdf1, pdf2, f2_name = self.model_type, self.body.cdf, self.tail.cdf, self.body.pdf, self.tail.pdf, self.tail.name\n",
    "        if \"Tail\" in f2_name:\n",
    "                if model_type == \"disjoint\":\n",
    "                    p = parms[-1]\n",
    "                elif model_type == \"simple\":\n",
    "                    S1, S2 = cdf1(parms_f1, γ), cdf2(parms_f2, γ, γ)\n",
    "                    s1, s2 = pdf1(parms_f1, γ), pdf2(parms_f2, γ, γ)\n",
    "                    if S1 > 0 and S2 < 1 and s1 > 0 and s2 > 0 :\n",
    "                        p =  S1\n",
    "                    else:\n",
    "                        p = 0\n",
    "\n",
    "                elif model_type == \"continuous\":\n",
    "                    S1, S2 = cdf1(parms_f1, γ), cdf2(parms_f2, γ, γ)\n",
    "                    s1, s2 = pdf1(parms_f1, γ), pdf2(parms_f2, γ, γ)\n",
    "                    if S1 > 0 and S2 < 1 and s1 > 0 and s2 > 0 :\n",
    "                        p =  s2 / (1 - S2) / ( s2 / (1 - S2) + s1 / S1)\n",
    "\n",
    "                    else:\n",
    "                        p = 0\n",
    "        else:\n",
    "            if model_type == \"disjoint\":\n",
    "                p = parms[-1]\n",
    "            elif model_type == \"simple\":\n",
    "                S1, S2 = cdf1(parms_f1, γ), cdf2(parms_f2, γ)\n",
    "                s1, s2 = pdf1(parms_f1, γ), pdf2(parms_f2, γ)\n",
    "                if S1 > 0 and S2 < 1 and s1 > 0 and s2 > 0 :\n",
    "                    p =  S1\n",
    "                else:\n",
    "                    p = 0\n",
    "\n",
    "            elif model_type == \"continuous\":\n",
    "                S1, S2 = cdf1(parms_f1, γ), cdf2(parms_f2, γ)\n",
    "                s1, s2 = pdf1(parms_f1, γ), pdf2(parms_f2, γ)\n",
    "                if S1 > 0 and S2 < 1 and s1 > 0 and s2 > 0 :\n",
    "                    p =  s2 / (1 - S2) / ( s2 / (1 - S2) + s1 / S1)\n",
    "\n",
    "                else:\n",
    "                    p = 0        \n",
    "        ber_rvs = np.random.binomial(1, p, size=n)\n",
    "        unif_rvs = np.random.uniform(size = n)\n",
    "        if \"Tail\" in f2_name:\n",
    "            body_rvs = self.body.ppf(parms_f1, \n",
    "                                     self.body.cdf(parms_f1, γ) * unif_rvs )\n",
    "            tail_rvs = self.tail.ppf(parms_f2, γ,\n",
    "                                     1 - (1 - self.tail.cdf(parms_f2, γ, γ)) * unif_rvs)\n",
    "        else:\n",
    "            body_rvs = self.body.ppf(parms_f1, \n",
    "                                     self.body.cdf(parms_f1, γ) * unif_rvs )\n",
    "            tail_rvs = self.tail.ppf(parms_f2,\n",
    "                                     1 - (1 - self.tail.cdf(parms_f2, γ)) * unif_rvs)\n",
    "            \n",
    "        \n",
    "        return(ber_rvs * body_rvs + (1 - ber_rvs) * tail_rvs)\n",
    "    \n",
    "    def set_logd(self, parms):\n",
    "        parms_f1, parms_f2, γ = parms[:,:self.body.d],\\\n",
    "            parms[:,self.body.d: (self.body.d + self.tail.d)],\\\n",
    "                parms[:,(self.body.d + self.tail.d)] \n",
    "        model_type, cdf1, cdf2, pdf1, pdf2, f2_name = self.model_type, self.body.cdf, self.tail.cdf, self.body.pdf, self.tail.pdf, self.tail.name\n",
    "        \n",
    "        if model_type == \"disjoint\":\n",
    "            p = parms[:,-1]\n",
    "        elif model_type == \"simple\":\n",
    "            p = np.array([cdf1(parm_f1, γ[j] ) for j, parm_f1 in enumerate(parms_f1)])\n",
    "        elif model_type == \"continuous\":\n",
    "            if \"Tail\" in f2_name:\n",
    "                p = np.array([pdf2(parm_f2, gam, gam) / (1 - cdf2(parm_f2, gam, gam)) / ( pdf2(parm_f2, gam, gam) / (1 - cdf2(parm_f2, gam, gam)) + pdf1(parm_f1, gam) / cdf1(parm_f1, gam)) for parm_f1, parm_f2, gam in zip(parms_f1, parms_f2, γ) ])\n",
    "            else:\n",
    "                p = np.array([pdf2(parm_f2, gam) / (1 - cdf2(parm_f2, gam)) / ( pdf2(parm_f2, gam) / (1 - cdf2(parm_f2, gam)) + pdf1(parm_f1, gam) / cdf1(parm_f1, gam)) for parm_f1, parm_f2, gam in zip(parms_f1, parms_f2, γ) ])\n",
    "        def logd(x):\n",
    "            res = np.zeros(len(γ))\n",
    "            s = np.logical_and(p > 0, p < 1)\n",
    "            s1 = np.logical_and(s, x < γ)\n",
    "            s2 = np.logical_and(s, x >= γ)\n",
    "            res1 = self.body.logd_body(x, parms_f1[s1], γ[s1]) + np.log(p[s1])    \n",
    "            res2 = self.tail.logd_tail(x, parms_f2[s2], γ[s2]) + np.log(1 - p[s2])\n",
    "            res[np.where(s1)] = res1\n",
    "            res[np.where(s2)] = res2\n",
    "            res[np.where(np.invert(s))] = - np.inf\n",
    "            return(res)\n",
    "        self.logd = logd\n",
    "    \n",
    "    def cdf(self, parms, x):\n",
    "        parms_f1, parms_f2, γ = parms[:self.body.d],\\\n",
    "            parms[self.body.d: (self.body.d + self.tail.d)], \\\n",
    "                parms[(self.body.d + self.tail.d)]\n",
    "        model_type, cdf1, cdf2, pdf1, pdf2, f2_name = self.model_type, self.body.cdf, self.tail.cdf, self.body.pdf, self.tail.pdf, self.tail.name\n",
    "        if model_type == \"disjoint\":\n",
    "            p = parms[-1]\n",
    "        elif model_type == \"simple\":\n",
    "            p = cdf1(parms_f1, γ)\n",
    "        elif model_type == \"continuous\":\n",
    "            if \"Tail\" in f2_name:\n",
    "                p =  pdf2(parms_f2, γ, γ) / (1 - cdf2(parms_f2, γ, γ)) / ( pdf2(parms_f2, γ, γ) / (1 - cdf2(parms_f2, γ, γ)) + pdf1(parms_f1, γ) / cdf1(parms_f1, γ)) \n",
    "            else:\n",
    "                p =  pdf2(parms_f2, γ) / (1 - cdf2(parms_f2, γ)) / ( pdf2(parms_f2, γ) / (1 - cdf2(parms_f2, γ)) + pdf1(parms_f1, γ) / cdf1(parms_f1, γ)) \n",
    "        \n",
    "        \n",
    "        if x <= γ:\n",
    "            return(p * cdf1(parms_f1, x) / cdf1(parms_f1, γ))\n",
    "        else:\n",
    "            if \"Tail\" in f2_name:\n",
    "                return(p + (1-p) * (cdf2(parms_f2, γ,  x)- cdf2(parms_f2, γ,  γ)) / (1 - cdf2(parms_f2, γ, γ)) )\n",
    "            else:\n",
    "                return(p + (1-p) * (cdf2(parms_f2, x)- cdf2(parms_f2, γ)) / (1 - cdf2(parms_f2, γ)) )\n",
    "    \n",
    "    def ppf(self, parms, y):\n",
    "        low, up = 0, 1e8\n",
    "        err = 1e-6\n",
    "        while up - low > err:\n",
    "            new = (up + low) / 2\n",
    "            val = self.cdf(parms, new)\n",
    "            if val > y:\n",
    "                up = new\n",
    "            else: \n",
    "                low = new\n",
    "        return(new)\n",
    "    "
   ]
  },
  {
   "cell_type": "code",
   "execution_count": 3,
   "id": "d18b681a-66cb-4f92-8dd1-19f7db15d959",
   "metadata": {},
   "outputs": [
    {
     "ename": "AttributeError",
     "evalue": "'spliced_loss_model' object has no attribute 'set_cdf'",
     "output_type": "error",
     "traceback": [
      "\u001b[1;31m---------------------------------------------------------------------------\u001b[0m",
      "\u001b[1;31mAttributeError\u001b[0m                            Traceback (most recent call last)",
      "\u001b[1;32m~\\AppData\\Local\\Temp/ipykernel_28796/3517001364.py\u001b[0m in \u001b[0;36m<module>\u001b[1;34m\u001b[0m\n\u001b[0;32m      1\u001b[0m \u001b[0mf1\u001b[0m\u001b[1;33m,\u001b[0m \u001b[0mf2\u001b[0m \u001b[1;33m=\u001b[0m  \u001b[0mbsm\u001b[0m\u001b[1;33m.\u001b[0m\u001b[0mloss_model\u001b[0m\u001b[1;33m(\u001b[0m\u001b[1;34m\"Lomax\"\u001b[0m\u001b[1;33m,\u001b[0m \u001b[1;33m[\u001b[0m\u001b[1;34m\"r1\"\u001b[0m\u001b[1;33m,\u001b[0m \u001b[1;34m\"m1\"\u001b[0m\u001b[1;33m]\u001b[0m\u001b[1;33m)\u001b[0m\u001b[1;33m,\u001b[0m \u001b[0mbsm\u001b[0m\u001b[1;33m.\u001b[0m\u001b[0mloss_model\u001b[0m\u001b[1;33m(\u001b[0m\u001b[1;34m\"Lomax\"\u001b[0m\u001b[1;33m,\u001b[0m \u001b[1;33m[\u001b[0m\u001b[1;34m\"α2\"\u001b[0m\u001b[1;33m,\u001b[0m \u001b[1;34m\"σ2\"\u001b[0m\u001b[1;33m]\u001b[0m\u001b[1;33m)\u001b[0m\u001b[1;33m\u001b[0m\u001b[1;33m\u001b[0m\u001b[0m\n\u001b[0;32m      2\u001b[0m \u001b[0mf\u001b[0m \u001b[1;33m=\u001b[0m \u001b[0mspliced_loss_model\u001b[0m\u001b[1;33m(\u001b[0m\u001b[0mf1\u001b[0m \u001b[1;33m,\u001b[0m \u001b[0mf2\u001b[0m\u001b[1;33m,\u001b[0m \u001b[1;34m\"continuous\"\u001b[0m\u001b[1;33m)\u001b[0m\u001b[1;33m\u001b[0m\u001b[1;33m\u001b[0m\u001b[0m\n\u001b[1;32m----> 3\u001b[1;33m \u001b[0mf\u001b[0m\u001b[1;33m.\u001b[0m\u001b[0mset_cdf\u001b[0m\u001b[1;33m(\u001b[0m\u001b[1;33m)\u001b[0m\u001b[1;33m,\u001b[0m \u001b[0mf\u001b[0m\u001b[1;33m.\u001b[0m\u001b[0mset_ppf\u001b[0m\u001b[1;33m(\u001b[0m\u001b[1;33m)\u001b[0m\u001b[1;33m\u001b[0m\u001b[1;33m\u001b[0m\u001b[0m\n\u001b[0m\u001b[0;32m      4\u001b[0m \u001b[0mr1_prior\u001b[0m\u001b[1;33m,\u001b[0m \u001b[0mm1_prior\u001b[0m \u001b[1;33m=\u001b[0m \u001b[0mbsm\u001b[0m\u001b[1;33m.\u001b[0m\u001b[0mprior_model\u001b[0m\u001b[1;33m(\u001b[0m\u001b[1;34m'gamma'\u001b[0m\u001b[1;33m,\u001b[0m\u001b[1;34m'r1'\u001b[0m\u001b[1;33m,\u001b[0m \u001b[1;36m1\u001b[0m\u001b[1;33m,\u001b[0m \u001b[1;36m1\u001b[0m\u001b[1;33m)\u001b[0m\u001b[1;33m,\u001b[0m \u001b[0mbsm\u001b[0m\u001b[1;33m.\u001b[0m\u001b[0mprior_model\u001b[0m\u001b[1;33m(\u001b[0m\u001b[1;34m'fixed'\u001b[0m\u001b[1;33m,\u001b[0m\u001b[1;34m'm1'\u001b[0m\u001b[1;33m,\u001b[0m \u001b[1;36m1\u001b[0m\u001b[1;33m,\u001b[0m \u001b[1;36m1\u001b[0m\u001b[1;33m)\u001b[0m\u001b[1;33m\u001b[0m\u001b[1;33m\u001b[0m\u001b[0m\n\u001b[0;32m      5\u001b[0m \u001b[0mα2_prior\u001b[0m\u001b[1;33m,\u001b[0m \u001b[0mσ2_prior\u001b[0m \u001b[1;33m=\u001b[0m \u001b[0mbsm\u001b[0m\u001b[1;33m.\u001b[0m\u001b[0mprior_model\u001b[0m\u001b[1;33m(\u001b[0m\u001b[1;34m'gamma'\u001b[0m\u001b[1;33m,\u001b[0m\u001b[1;34m'α2'\u001b[0m\u001b[1;33m,\u001b[0m\u001b[1;36m1\u001b[0m\u001b[1;33m,\u001b[0m \u001b[1;36m1\u001b[0m\u001b[1;33m)\u001b[0m\u001b[1;33m,\u001b[0m \u001b[0mbsm\u001b[0m\u001b[1;33m.\u001b[0m\u001b[0mprior_model\u001b[0m\u001b[1;33m(\u001b[0m\u001b[1;34m'gamma'\u001b[0m\u001b[1;33m,\u001b[0m\u001b[1;34m'σ2'\u001b[0m\u001b[1;33m,\u001b[0m\u001b[1;36m1\u001b[0m\u001b[1;33m,\u001b[0m \u001b[1;36m1\u001b[0m\u001b[1;33m)\u001b[0m\u001b[1;33m\u001b[0m\u001b[1;33m\u001b[0m\u001b[0m\n",
      "\u001b[1;31mAttributeError\u001b[0m: 'spliced_loss_model' object has no attribute 'set_cdf'"
     ]
    }
   ],
   "source": [
    "f1, f2 =  bsm.loss_model(\"Lomax\", [\"r1\", \"m1\"]), bsm.loss_model(\"Lomax\", [\"α2\", \"σ2\"])\n",
    "f = spliced_loss_model(f1 , f2, \"continuous\") \n",
    "f.set_cdf(), f.set_ppf()\n",
    "r1_prior, m1_prior = bsm.prior_model('gamma','r1', 1, 1), bsm.prior_model('fixed','m1', 1, 1)\n",
    "α2_prior, σ2_prior = bsm.prior_model('gamma','α2',1, 1), bsm.prior_model('gamma','σ2',1, 1)\n",
    "γ_prior, p_prior =  bsm.prior_model('fixed','γ',2, 1), bsm.prior_model('beta', 'p', 2, 2)\n",
    "prior_spliced_model = bsm.independent_priors([r1_prior, m1_prior, α2_prior, σ2_prior, γ_prior])\n",
    "parms = prior_spliced_model.sample(1).values[0]"
   ]
  },
  {
   "cell_type": "code",
   "execution_count": null,
   "id": "936609bb-61ff-401b-8f9b-401743e1ac92",
   "metadata": {},
   "outputs": [],
   "source": [
    "parms = np.array([1.2786364 , 1.92896647, 1.39653302, 2.30347771, 3.92126287])\n",
    "f.cdf(parms, 4)\n",
    "# ,f.ppf(parms, 0.5)"
   ]
  },
  {
   "cell_type": "code",
   "execution_count": null,
   "id": "f57ce9af-902d-477e-9de7-9727bce95fa8",
   "metadata": {},
   "outputs": [],
   "source": [
    "danish = pd.read_csv(\"Data/danish.csv\").x\n",
    "X = danish.values\n",
    "# ausautoBI8999 = pd.read_csv(\"Data/ausautoBI8999.csv\")\n",
    "# aus = pd.concat([ausautoBI8999[[\"FinDate\", \"FinMth\" ,\"AggClaim\"]], \n",
    "#                  pd.DataFrame({'year':np.array([dat.datetime.fromisoformat(ausautoBI8999[\"FinDate\"].iloc[k]).year \n",
    "#                                                 for k in range(len(ausautoBI8999[\"FinDate\"]))])})\n",
    "#                 ], axis = 1)\n",
    "# aus['scaled_aggclaims'] = aus['AggClaim'] / 1e6 \n",
    "# months = np.unique(aus['FinMth'])\n",
    "# selec = aus['FinMth'].values == months[0]   \n",
    "# X = aus['scaled_aggclaims'].iloc[selec].values"
   ]
  },
  {
   "cell_type": "code",
   "execution_count": 31,
   "id": "94a50aa5-fb41-41cd-aef2-620edb3a92cf",
   "metadata": {},
   "outputs": [
    {
     "data": {
      "text/plain": [
       "(None, -6570.229376171235)"
      ]
     },
     "execution_count": 31,
     "metadata": {},
     "output_type": "execute_result"
    }
   ],
   "source": [
    "f1, f2 =  bsm.loss_model(\"Exp\", [\"r1\"]), loss_model(\"Pareto-Tail\", [\"α2\"])\n",
    "f = spliced_loss_model(f1 , f2, \"continuous\") \n",
    "r1_prior, m1_prior = bsm.prior_model('gamma','r1', 1, 1), bsm.prior_model('fixed','m1', 1, 1)\n",
    "α2_prior = bsm.prior_model('gamma','α2',1, 1)\n",
    "γ_prior, p_prior =  bsm.prior_model('gamma','γ',1, 1), bsm.prior_model('beta', 'p', 2, 2)\n",
    "prior_spliced_model = bsm.independent_priors([r1_prior, α2_prior, γ_prior])\n",
    "f.set_logp(X), f.logp(np.array([1, 2, 1.2, 1.2]))"
   ]
  },
  {
   "cell_type": "code",
   "execution_count": 32,
   "id": "cee67a01-fc6a-4d47-98be-e6ddd679aa30",
   "metadata": {},
   "outputs": [
    {
     "name": "stdout",
     "output_type": "stream",
     "text": [
      "Sample generation 0 from the gamma-gamma-gamma prior distribution\n",
      "Generation: 1 ;temperature: 0.0006723403930664062 ;ESS: 2501 ;steps:4 ;particle moved: 99.68%\n",
      "Generation: 2 ;temperature: 0.0022501407988784194 ;ESS: 2499 ;steps:3 ;particle moved: 98.76%\n",
      "Generation: 3 ;temperature: 0.006312985623427515 ;ESS: 2499 ;steps:4 ;particle moved: 99.78%\n",
      "Generation: 4 ;temperature: 0.014944064535935957 ;ESS: 2499 ;steps:3 ;particle moved: 98.46000000000001%\n",
      "Generation: 5 ;temperature: 0.03229335073031806 ;ESS: 2499 ;steps:3 ;particle moved: 99.1%\n",
      "Generation: 6 ;temperature: 0.06751152713352465 ;ESS: 2500 ;steps:3 ;particle moved: 99.08%\n",
      "Generation: 7 ;temperature: 0.14216725957744064 ;ESS: 2500 ;steps:3 ;particle moved: 99.16%\n",
      "Generation: 8 ;temperature: 0.30322179927773985 ;ESS: 2500 ;steps:3 ;particle moved: 99.3%\n",
      "Generation: 9 ;temperature: 0.6436718103568198 ;ESS: 2499 ;steps:3 ;particle moved: 99.24%\n",
      "Generation: 10 ;temperature: 1.0 ;ESS: 3754 ;steps:3 ;particle moved: 99.22%\n",
      "Wall time: 26.4 s\n"
     ]
    }
   ],
   "source": [
    "popSize, ρ, c, n_step_max, err, paralell, n_proc, verbose = 5000, 1/2, 0.99, 25, 1e-6, False, 4, True\n",
    "%time trace, log_marg, DIC, WAIC = bsm.smc_likelihood_annealing(X, f, popSize, prior_spliced_model, ρ, c,n_step_max, err, paralell, 4, verbose)"
   ]
  },
  {
   "cell_type": "code",
   "execution_count": 33,
   "id": "6ff62935-3289-4673-bbe8-bbd5e1c86855",
   "metadata": {},
   "outputs": [
    {
     "name": "stdout",
     "output_type": "stream",
     "text": [
      "[0.00203576 1.39646018 1.83155974] -4651.502313072686 9271.129964625808 9279.526231029826\n"
     ]
    },
    {
     "data": {
      "image/png": "[encoded data removed]",
      "text/plain": [
       "<Figure size 720x252 with 3 Axes>"
      ]
     },
     "metadata": {
      "needs_background": "light"
     },
     "output_type": "display_data"
    },
    {
     "data": {
      "image/png": "[encoded data removed]",
      "text/plain": [
       "<Figure size 180x180 with 1 Axes>"
      ]
     },
     "metadata": {
      "needs_background": "light"
     },
     "output_type": "display_data"
    }
   ],
   "source": [
    "print(trace.mean().values, log_marg, DIC, WAIC)\n",
    "# bsm.posterior_plots(f, trace)\n",
    "bsm.trace_plots(f, trace)\n",
    "bsm.qq_plot(X, f, trace.mean().values)"
   ]
  },
  {
   "cell_type": "code",
   "execution_count": 34,
   "id": "0f98fe95-dd67-424c-8e41-fc71c4b0363c",
   "metadata": {},
   "outputs": [],
   "source": [
    "X0 = f.sample(trace.mean().values, 10000)"
   ]
  },
  {
   "cell_type": "code",
   "execution_count": 35,
   "id": "706b9f24-f25a-4f32-b185-941c908f4e67",
   "metadata": {},
   "outputs": [],
   "source": [
    "def qq_plot_en(X, X0, color):\n",
    "    qs = np.arange(0.01,0.99, 0.01)\n",
    "    \n",
    "    df_quantile = pd.DataFrame({\n",
    "        'emp_quant' : pd.Series(X).quantile(qs),\n",
    "        'lnorm_quant' : pd.Series(X0).quantile(qs)\n",
    "    })\n",
    "    df_quantile\n",
    "    # Quantile-quantile plots\n",
    "    fig, axs = plt.subplots(1, 1, figsize=(2.5, 2.5))\n",
    "    \n",
    "    plt.plot(df_quantile.emp_quant, df_quantile.lnorm_quant, c= color, lw=3)\n",
    "    \n",
    "    x = np.linspace(0, max(df_quantile.emp_quant), 100)\n",
    "    \n",
    "    plt.plot(x, x, \":k\")\n",
    "    plt.xticks([])\n",
    "    plt.yticks([])\n",
    "    plt.xlabel(\"Empirical\")\n",
    "    plt.ylabel(\"Theoretical\")"
   ]
  },
  {
   "cell_type": "code",
   "execution_count": 36,
   "id": "05904327-215c-4097-9fba-6f860d7eebd6",
   "metadata": {},
   "outputs": [
    {
     "data": {
      "image/png": "[encoded data removed]",
      "text/plain": [
       "<Figure size 180x180 with 1 Axes>"
      ]
     },
     "metadata": {},
     "output_type": "display_data"
    }
   ],
   "source": [
    "qq_plot_en(X, X0, \"blue\")"
   ]
  },
  {
   "cell_type": "code",
   "execution_count": null,
   "id": "2a81ef5e-69c2-4a1c-8f72-4d2eca2b1d23",
   "metadata": {},
   "outputs": [],
   "source": []
  }
 ],
 "metadata": {
  "kernelspec": {
   "display_name": "Python 3 (ipykernel)",
   "language": "python",
   "name": "python3"
  },
  "language_info": {
   "codemirror_mode": {
    "name": "ipython",
    "version": 3
   },
   "file_extension": ".py",
   "mimetype": "text/x-python",
   "name": "python",
   "nbconvert_exporter": "python",
   "pygments_lexer": "ipython3",
   "version": "3.9.7"
  }
 },
 "nbformat": 4,
 "nbformat_minor": 5
}
